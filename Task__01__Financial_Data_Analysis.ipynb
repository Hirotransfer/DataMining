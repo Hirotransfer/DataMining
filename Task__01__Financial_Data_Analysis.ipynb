{
 "cells": [
  {
   "cell_type": "markdown",
   "metadata": {},
   "source": [
    "### 任务说明："
   ]
  },
  {
   "cell_type": "markdown",
   "metadata": {},
   "source": [
    "- 利用 **金融数据** 来预测贷款用户是否会逾期\n",
    "- 其中，**“status”** 是结果标签：**0** 表示未逾期，**1** 表示逾期"
   ]
  },
  {
   "cell_type": "markdown",
   "metadata": {},
   "source": [
    "### 任务要求："
   ]
  },
  {
   "cell_type": "markdown",
   "metadata": {},
   "source": [
    "- 数据切分方式：**三七分**\n",
    "- 其中，测试集 **30%**，训练集 **70%**，随机种子设置为 **2019**"
   ]
  },
  {
   "cell_type": "markdown",
   "metadata": {},
   "source": [
    "### 任务实现：（2 Days）"
   ]
  },
  {
   "cell_type": "markdown",
   "metadata": {},
   "source": [
    "- 对数据进行探索和分析 **EDA**\n",
    "- 数据类型的分析\n",
    "- 无关特征的删除\n",
    "- 数据类型的转换\n",
    "- 缺失值的处理\n",
    "- ......"
   ]
  },
  {
   "cell_type": "markdown",
   "metadata": {},
   "source": [
    "### 分析步骤：\n",
    "###### 1. 数据集加载并预览原始数据\n",
    "###### 2. 对数据进行预处理（Preprocessing）：\n",
    "###### 2.1 无关特征的删除\n",
    "###### 2.2 数据类型的转换\n",
    "###### 2.3 缺失值的处理"
   ]
  },
  {
   "cell_type": "markdown",
   "metadata": {},
   "source": [
    "### 1. 数据集加载并预览效果"
   ]
  },
  {
   "cell_type": "code",
   "execution_count": 1,
   "metadata": {},
   "outputs": [],
   "source": [
    "import pandas as pd"
   ]
  },
  {
   "cell_type": "code",
   "execution_count": 2,
   "metadata": {},
   "outputs": [],
   "source": [
    "# Unicode编码错误 UnicodeDecodeError    Traceback (most recent call last)\n",
    "data = pd.read_csv(\"Dataset/data.csv\")\n",
    "# 编码格式的问题 需手动设定为\"UTF-8\""
   ]
  },
  {
   "cell_type": "code",
   "execution_count": 3,
   "metadata": {},
   "outputs": [
    {
     "name": "stdout",
     "output_type": "stream",
     "text": [
      "(4754, 90)\n"
     ]
    }
   ],
   "source": [
    "print(data.shape) # 观察数据的大小 4754行 90列"
   ]
  },
  {
   "cell_type": "code",
   "execution_count": 4,
   "metadata": {},
   "outputs": [
    {
     "data": {
      "text/html": [
       "<div>\n",
       "<style scoped>\n",
       "    .dataframe tbody tr th:only-of-type {\n",
       "        vertical-align: middle;\n",
       "    }\n",
       "\n",
       "    .dataframe tbody tr th {\n",
       "        vertical-align: top;\n",
       "    }\n",
       "\n",
       "    .dataframe thead th {\n",
       "        text-align: right;\n",
       "    }\n",
       "</style>\n",
       "<table border=\"1\" class=\"dataframe\">\n",
       "  <thead>\n",
       "    <tr style=\"text-align: right;\">\n",
       "      <th></th>\n",
       "      <th>Unnamed: 0</th>\n",
       "      <th>custid</th>\n",
       "      <th>trade_no</th>\n",
       "      <th>bank_card_no</th>\n",
       "      <th>low_volume_percent</th>\n",
       "      <th>middle_volume_percent</th>\n",
       "      <th>take_amount_in_later_12_month_highest</th>\n",
       "      <th>trans_amount_increase_rate_lately</th>\n",
       "      <th>trans_activity_month</th>\n",
       "      <th>trans_activity_day</th>\n",
       "      <th>...</th>\n",
       "      <th>loans_max_limit</th>\n",
       "      <th>loans_avg_limit</th>\n",
       "      <th>consfin_credit_limit</th>\n",
       "      <th>consfin_credibility</th>\n",
       "      <th>consfin_org_count_current</th>\n",
       "      <th>consfin_product_count</th>\n",
       "      <th>consfin_max_limit</th>\n",
       "      <th>consfin_avg_limit</th>\n",
       "      <th>latest_query_day</th>\n",
       "      <th>loans_latest_day</th>\n",
       "    </tr>\n",
       "  </thead>\n",
       "  <tbody>\n",
       "    <tr>\n",
       "      <th>0</th>\n",
       "      <td>5</td>\n",
       "      <td>2791858</td>\n",
       "      <td>20180507115231274000000023057383</td>\n",
       "      <td>卡号1</td>\n",
       "      <td>0.01</td>\n",
       "      <td>0.99</td>\n",
       "      <td>0</td>\n",
       "      <td>0.90</td>\n",
       "      <td>0.55</td>\n",
       "      <td>0.313</td>\n",
       "      <td>...</td>\n",
       "      <td>2900.0</td>\n",
       "      <td>1688.0</td>\n",
       "      <td>1200.0</td>\n",
       "      <td>75.0</td>\n",
       "      <td>1.0</td>\n",
       "      <td>2.0</td>\n",
       "      <td>1200.0</td>\n",
       "      <td>1200.0</td>\n",
       "      <td>12.0</td>\n",
       "      <td>18.0</td>\n",
       "    </tr>\n",
       "    <tr>\n",
       "      <th>1</th>\n",
       "      <td>10</td>\n",
       "      <td>534047</td>\n",
       "      <td>20180507121002192000000023073000</td>\n",
       "      <td>卡号1</td>\n",
       "      <td>0.02</td>\n",
       "      <td>0.94</td>\n",
       "      <td>2000</td>\n",
       "      <td>1.28</td>\n",
       "      <td>1.00</td>\n",
       "      <td>0.458</td>\n",
       "      <td>...</td>\n",
       "      <td>3500.0</td>\n",
       "      <td>1758.0</td>\n",
       "      <td>15100.0</td>\n",
       "      <td>80.0</td>\n",
       "      <td>5.0</td>\n",
       "      <td>6.0</td>\n",
       "      <td>22800.0</td>\n",
       "      <td>9360.0</td>\n",
       "      <td>4.0</td>\n",
       "      <td>2.0</td>\n",
       "    </tr>\n",
       "    <tr>\n",
       "      <th>2</th>\n",
       "      <td>12</td>\n",
       "      <td>2849787</td>\n",
       "      <td>20180507125159718000000023114911</td>\n",
       "      <td>卡号1</td>\n",
       "      <td>0.04</td>\n",
       "      <td>0.96</td>\n",
       "      <td>0</td>\n",
       "      <td>1.00</td>\n",
       "      <td>1.00</td>\n",
       "      <td>0.114</td>\n",
       "      <td>...</td>\n",
       "      <td>1600.0</td>\n",
       "      <td>1250.0</td>\n",
       "      <td>4200.0</td>\n",
       "      <td>87.0</td>\n",
       "      <td>1.0</td>\n",
       "      <td>1.0</td>\n",
       "      <td>4200.0</td>\n",
       "      <td>4200.0</td>\n",
       "      <td>2.0</td>\n",
       "      <td>6.0</td>\n",
       "    </tr>\n",
       "    <tr>\n",
       "      <th>3</th>\n",
       "      <td>13</td>\n",
       "      <td>1809708</td>\n",
       "      <td>20180507121358683000000388283484</td>\n",
       "      <td>卡号1</td>\n",
       "      <td>0.00</td>\n",
       "      <td>0.96</td>\n",
       "      <td>2000</td>\n",
       "      <td>0.13</td>\n",
       "      <td>0.57</td>\n",
       "      <td>0.777</td>\n",
       "      <td>...</td>\n",
       "      <td>3200.0</td>\n",
       "      <td>1541.0</td>\n",
       "      <td>16300.0</td>\n",
       "      <td>80.0</td>\n",
       "      <td>5.0</td>\n",
       "      <td>5.0</td>\n",
       "      <td>30000.0</td>\n",
       "      <td>12180.0</td>\n",
       "      <td>2.0</td>\n",
       "      <td>4.0</td>\n",
       "    </tr>\n",
       "    <tr>\n",
       "      <th>4</th>\n",
       "      <td>14</td>\n",
       "      <td>2499829</td>\n",
       "      <td>20180507115448545000000388205844</td>\n",
       "      <td>卡号1</td>\n",
       "      <td>0.01</td>\n",
       "      <td>0.99</td>\n",
       "      <td>0</td>\n",
       "      <td>0.46</td>\n",
       "      <td>1.00</td>\n",
       "      <td>0.175</td>\n",
       "      <td>...</td>\n",
       "      <td>2300.0</td>\n",
       "      <td>1630.0</td>\n",
       "      <td>8300.0</td>\n",
       "      <td>79.0</td>\n",
       "      <td>2.0</td>\n",
       "      <td>2.0</td>\n",
       "      <td>8400.0</td>\n",
       "      <td>8250.0</td>\n",
       "      <td>22.0</td>\n",
       "      <td>120.0</td>\n",
       "    </tr>\n",
       "    <tr>\n",
       "      <th>5</th>\n",
       "      <td>15</td>\n",
       "      <td>518072</td>\n",
       "      <td>20180507121233054000000388275132</td>\n",
       "      <td>卡号1</td>\n",
       "      <td>0.02</td>\n",
       "      <td>0.98</td>\n",
       "      <td>2000</td>\n",
       "      <td>7.59</td>\n",
       "      <td>1.00</td>\n",
       "      <td>0.733</td>\n",
       "      <td>...</td>\n",
       "      <td>5300.0</td>\n",
       "      <td>1941.0</td>\n",
       "      <td>11200.0</td>\n",
       "      <td>80.0</td>\n",
       "      <td>10.0</td>\n",
       "      <td>12.0</td>\n",
       "      <td>20400.0</td>\n",
       "      <td>8130.0</td>\n",
       "      <td>3.0</td>\n",
       "      <td>4.0</td>\n",
       "    </tr>\n",
       "    <tr>\n",
       "      <th>6</th>\n",
       "      <td>16</td>\n",
       "      <td>1205125</td>\n",
       "      <td>20180507121931540000000388298915</td>\n",
       "      <td>卡号1</td>\n",
       "      <td>0.02</td>\n",
       "      <td>0.98</td>\n",
       "      <td>0</td>\n",
       "      <td>23.67</td>\n",
       "      <td>0.94</td>\n",
       "      <td>0.087</td>\n",
       "      <td>...</td>\n",
       "      <td>2200.0</td>\n",
       "      <td>2200.0</td>\n",
       "      <td>7600.0</td>\n",
       "      <td>73.0</td>\n",
       "      <td>2.0</td>\n",
       "      <td>2.0</td>\n",
       "      <td>16800.0</td>\n",
       "      <td>8900.0</td>\n",
       "      <td>1.0</td>\n",
       "      <td>3.0</td>\n",
       "    </tr>\n",
       "    <tr>\n",
       "      <th>7</th>\n",
       "      <td>18</td>\n",
       "      <td>1129897</td>\n",
       "      <td>20180507124659235000000023105807</td>\n",
       "      <td>卡号1</td>\n",
       "      <td>0.02</td>\n",
       "      <td>0.98</td>\n",
       "      <td>0</td>\n",
       "      <td>0.25</td>\n",
       "      <td>0.88</td>\n",
       "      <td>0.302</td>\n",
       "      <td>...</td>\n",
       "      <td>NaN</td>\n",
       "      <td>NaN</td>\n",
       "      <td>NaN</td>\n",
       "      <td>NaN</td>\n",
       "      <td>NaN</td>\n",
       "      <td>NaN</td>\n",
       "      <td>NaN</td>\n",
       "      <td>NaN</td>\n",
       "      <td>NaN</td>\n",
       "      <td>NaN</td>\n",
       "    </tr>\n",
       "    <tr>\n",
       "      <th>8</th>\n",
       "      <td>20</td>\n",
       "      <td>2599411</td>\n",
       "      <td>20180507115855621000000388224458</td>\n",
       "      <td>卡号1</td>\n",
       "      <td>0.03</td>\n",
       "      <td>0.65</td>\n",
       "      <td>0</td>\n",
       "      <td>0.31</td>\n",
       "      <td>0.76</td>\n",
       "      <td>0.472</td>\n",
       "      <td>...</td>\n",
       "      <td>5300.0</td>\n",
       "      <td>4750.0</td>\n",
       "      <td>5500.0</td>\n",
       "      <td>79.0</td>\n",
       "      <td>8.0</td>\n",
       "      <td>11.0</td>\n",
       "      <td>19200.0</td>\n",
       "      <td>7987.0</td>\n",
       "      <td>24.0</td>\n",
       "      <td>7.0</td>\n",
       "    </tr>\n",
       "    <tr>\n",
       "      <th>9</th>\n",
       "      <td>26</td>\n",
       "      <td>1413051</td>\n",
       "      <td>20180504155156296000000021138084</td>\n",
       "      <td>卡号1</td>\n",
       "      <td>0.01</td>\n",
       "      <td>0.99</td>\n",
       "      <td>500</td>\n",
       "      <td>0.80</td>\n",
       "      <td>1.00</td>\n",
       "      <td>0.088</td>\n",
       "      <td>...</td>\n",
       "      <td>2800.0</td>\n",
       "      <td>1520.0</td>\n",
       "      <td>0.0</td>\n",
       "      <td>0.0</td>\n",
       "      <td>0.0</td>\n",
       "      <td>0.0</td>\n",
       "      <td>0.0</td>\n",
       "      <td>0.0</td>\n",
       "      <td>18.0</td>\n",
       "      <td>142.0</td>\n",
       "    </tr>\n",
       "  </tbody>\n",
       "</table>\n",
       "<p>10 rows × 90 columns</p>\n",
       "</div>"
      ],
      "text/plain": [
       "   Unnamed: 0   custid                          trade_no bank_card_no  \\\n",
       "0           5  2791858  20180507115231274000000023057383          卡号1   \n",
       "1          10   534047  20180507121002192000000023073000          卡号1   \n",
       "2          12  2849787  20180507125159718000000023114911          卡号1   \n",
       "3          13  1809708  20180507121358683000000388283484          卡号1   \n",
       "4          14  2499829  20180507115448545000000388205844          卡号1   \n",
       "5          15   518072  20180507121233054000000388275132          卡号1   \n",
       "6          16  1205125  20180507121931540000000388298915          卡号1   \n",
       "7          18  1129897  20180507124659235000000023105807          卡号1   \n",
       "8          20  2599411  20180507115855621000000388224458          卡号1   \n",
       "9          26  1413051  20180504155156296000000021138084          卡号1   \n",
       "\n",
       "   low_volume_percent  middle_volume_percent  \\\n",
       "0                0.01                   0.99   \n",
       "1                0.02                   0.94   \n",
       "2                0.04                   0.96   \n",
       "3                0.00                   0.96   \n",
       "4                0.01                   0.99   \n",
       "5                0.02                   0.98   \n",
       "6                0.02                   0.98   \n",
       "7                0.02                   0.98   \n",
       "8                0.03                   0.65   \n",
       "9                0.01                   0.99   \n",
       "\n",
       "   take_amount_in_later_12_month_highest  trans_amount_increase_rate_lately  \\\n",
       "0                                      0                               0.90   \n",
       "1                                   2000                               1.28   \n",
       "2                                      0                               1.00   \n",
       "3                                   2000                               0.13   \n",
       "4                                      0                               0.46   \n",
       "5                                   2000                               7.59   \n",
       "6                                      0                              23.67   \n",
       "7                                      0                               0.25   \n",
       "8                                      0                               0.31   \n",
       "9                                    500                               0.80   \n",
       "\n",
       "   trans_activity_month  trans_activity_day        ...         \\\n",
       "0                  0.55               0.313        ...          \n",
       "1                  1.00               0.458        ...          \n",
       "2                  1.00               0.114        ...          \n",
       "3                  0.57               0.777        ...          \n",
       "4                  1.00               0.175        ...          \n",
       "5                  1.00               0.733        ...          \n",
       "6                  0.94               0.087        ...          \n",
       "7                  0.88               0.302        ...          \n",
       "8                  0.76               0.472        ...          \n",
       "9                  1.00               0.088        ...          \n",
       "\n",
       "   loans_max_limit  loans_avg_limit  consfin_credit_limit  \\\n",
       "0           2900.0           1688.0                1200.0   \n",
       "1           3500.0           1758.0               15100.0   \n",
       "2           1600.0           1250.0                4200.0   \n",
       "3           3200.0           1541.0               16300.0   \n",
       "4           2300.0           1630.0                8300.0   \n",
       "5           5300.0           1941.0               11200.0   \n",
       "6           2200.0           2200.0                7600.0   \n",
       "7              NaN              NaN                   NaN   \n",
       "8           5300.0           4750.0                5500.0   \n",
       "9           2800.0           1520.0                   0.0   \n",
       "\n",
       "   consfin_credibility  consfin_org_count_current  consfin_product_count  \\\n",
       "0                 75.0                        1.0                    2.0   \n",
       "1                 80.0                        5.0                    6.0   \n",
       "2                 87.0                        1.0                    1.0   \n",
       "3                 80.0                        5.0                    5.0   \n",
       "4                 79.0                        2.0                    2.0   \n",
       "5                 80.0                       10.0                   12.0   \n",
       "6                 73.0                        2.0                    2.0   \n",
       "7                  NaN                        NaN                    NaN   \n",
       "8                 79.0                        8.0                   11.0   \n",
       "9                  0.0                        0.0                    0.0   \n",
       "\n",
       "   consfin_max_limit  consfin_avg_limit  latest_query_day  loans_latest_day  \n",
       "0             1200.0             1200.0              12.0              18.0  \n",
       "1            22800.0             9360.0               4.0               2.0  \n",
       "2             4200.0             4200.0               2.0               6.0  \n",
       "3            30000.0            12180.0               2.0               4.0  \n",
       "4             8400.0             8250.0              22.0             120.0  \n",
       "5            20400.0             8130.0               3.0               4.0  \n",
       "6            16800.0             8900.0               1.0               3.0  \n",
       "7                NaN                NaN               NaN               NaN  \n",
       "8            19200.0             7987.0              24.0               7.0  \n",
       "9                0.0                0.0              18.0             142.0  \n",
       "\n",
       "[10 rows x 90 columns]"
      ]
     },
     "execution_count": 4,
     "metadata": {},
     "output_type": "execute_result"
    }
   ],
   "source": [
    "data.head(10)"
   ]
  },
  {
   "cell_type": "code",
   "execution_count": 5,
   "metadata": {},
   "outputs": [
    {
     "data": {
      "text/plain": [
       "Index(['Unnamed: 0', 'custid', 'trade_no', 'bank_card_no',\n",
       "       'low_volume_percent', 'middle_volume_percent',\n",
       "       'take_amount_in_later_12_month_highest',\n",
       "       'trans_amount_increase_rate_lately', 'trans_activity_month',\n",
       "       'trans_activity_day', 'transd_mcc', 'trans_days_interval_filter',\n",
       "       'trans_days_interval', 'regional_mobility', 'student_feature',\n",
       "       'repayment_capability', 'is_high_user', 'number_of_trans_from_2011',\n",
       "       'first_transaction_time', 'historical_trans_amount',\n",
       "       'historical_trans_day', 'rank_trad_1_month', 'trans_amount_3_month',\n",
       "       'avg_consume_less_12_valid_month', 'abs',\n",
       "       'top_trans_count_last_1_month', 'avg_price_last_12_month',\n",
       "       'avg_price_top_last_12_valid_month', 'reg_preference_for_trad',\n",
       "       'trans_top_time_last_1_month', 'trans_top_time_last_6_month',\n",
       "       'consume_top_time_last_1_month', 'consume_top_time_last_6_month',\n",
       "       'cross_consume_count_last_1_month',\n",
       "       'trans_fail_top_count_enum_last_1_month',\n",
       "       'trans_fail_top_count_enum_last_6_month',\n",
       "       'trans_fail_top_count_enum_last_12_month',\n",
       "       'consume_mini_time_last_1_month',\n",
       "       'max_cumulative_consume_later_1_month',\n",
       "       'max_consume_count_later_6_month',\n",
       "       'railway_consume_count_last_12_month',\n",
       "       'pawns_auctions_trusts_consume_last_1_month',\n",
       "       'pawns_auctions_trusts_consume_last_6_month',\n",
       "       'jewelry_consume_count_last_6_month', 'status', 'source',\n",
       "       'first_transaction_day', 'trans_day_last_12_month', 'id_name',\n",
       "       'apply_score', 'apply_credibility', 'query_org_count',\n",
       "       'query_finance_count', 'query_cash_count', 'query_sum_count',\n",
       "       'latest_query_time', 'latest_one_month_apply',\n",
       "       'latest_three_month_apply', 'latest_six_month_apply', 'loans_score',\n",
       "       'loans_credibility_behavior', 'loans_count', 'loans_settle_count',\n",
       "       'loans_overdue_count', 'loans_org_count_behavior',\n",
       "       'consfin_org_count_behavior', 'loans_cash_count',\n",
       "       'latest_one_month_loan', 'latest_three_month_loan',\n",
       "       'latest_six_month_loan', 'history_suc_fee', 'history_fail_fee',\n",
       "       'latest_one_month_suc', 'latest_one_month_fail', 'loans_long_time',\n",
       "       'loans_latest_time', 'loans_credit_limit', 'loans_credibility_limit',\n",
       "       'loans_org_count_current', 'loans_product_count', 'loans_max_limit',\n",
       "       'loans_avg_limit', 'consfin_credit_limit', 'consfin_credibility',\n",
       "       'consfin_org_count_current', 'consfin_product_count',\n",
       "       'consfin_max_limit', 'consfin_avg_limit', 'latest_query_day',\n",
       "       'loans_latest_day'],\n",
       "      dtype='object')"
      ]
     },
     "execution_count": 5,
     "metadata": {},
     "output_type": "execute_result"
    }
   ],
   "source": [
    "# 观察各列的属性名称\n",
    "data.columns"
   ]
  },
  {
   "cell_type": "markdown",
   "metadata": {},
   "source": [
    "### 2. 对数据进行预处理（Preprocessing）"
   ]
  },
  {
   "cell_type": "markdown",
   "metadata": {},
   "source": [
    "###### 2.1 无关特征的删除"
   ]
  },
  {
   "cell_type": "code",
   "execution_count": 6,
   "metadata": {},
   "outputs": [
    {
     "data": {
      "text/plain": [
       "0       卡号1\n",
       "1       卡号1\n",
       "2       卡号1\n",
       "3       卡号1\n",
       "4       卡号1\n",
       "5       卡号1\n",
       "6       卡号1\n",
       "7       卡号1\n",
       "8       卡号1\n",
       "9       卡号1\n",
       "10      卡号1\n",
       "11      卡号1\n",
       "12      卡号1\n",
       "13      卡号1\n",
       "14      卡号1\n",
       "15      卡号1\n",
       "16      卡号1\n",
       "17      卡号1\n",
       "18      卡号1\n",
       "19      卡号1\n",
       "20      卡号1\n",
       "21      卡号1\n",
       "22      卡号1\n",
       "23      卡号1\n",
       "24      卡号1\n",
       "25      卡号1\n",
       "26      卡号1\n",
       "27      卡号1\n",
       "28      卡号1\n",
       "29      卡号1\n",
       "       ... \n",
       "4724    卡号1\n",
       "4725    卡号1\n",
       "4726    卡号1\n",
       "4727    卡号1\n",
       "4728    卡号1\n",
       "4729    卡号1\n",
       "4730    卡号1\n",
       "4731    卡号1\n",
       "4732    卡号1\n",
       "4733    卡号1\n",
       "4734    卡号1\n",
       "4735    卡号1\n",
       "4736    卡号1\n",
       "4737    卡号1\n",
       "4738    卡号1\n",
       "4739    卡号1\n",
       "4740    卡号1\n",
       "4741    卡号1\n",
       "4742    卡号1\n",
       "4743    卡号1\n",
       "4744    卡号1\n",
       "4745    卡号1\n",
       "4746    卡号1\n",
       "4747    卡号1\n",
       "4748    卡号1\n",
       "4749    卡号1\n",
       "4750    卡号1\n",
       "4751    卡号1\n",
       "4752    卡号1\n",
       "4753    卡号1\n",
       "Name: bank_card_no, Length: 4754, dtype: object"
      ]
     },
     "execution_count": 6,
     "metadata": {},
     "output_type": "execute_result"
    }
   ],
   "source": [
    "data['bank_card_no']"
   ]
  },
  {
   "cell_type": "code",
   "execution_count": 7,
   "metadata": {},
   "outputs": [
    {
     "data": {
      "text/plain": [
       "0       xs\n",
       "1       xs\n",
       "2       xs\n",
       "3       xs\n",
       "4       xs\n",
       "5       xs\n",
       "6       xs\n",
       "7       xs\n",
       "8       xs\n",
       "9       xs\n",
       "10      xs\n",
       "11      xs\n",
       "12      xs\n",
       "13      xs\n",
       "14      xs\n",
       "15      xs\n",
       "16      xs\n",
       "17      xs\n",
       "18      xs\n",
       "19      xs\n",
       "20      xs\n",
       "21      xs\n",
       "22      xs\n",
       "23      xs\n",
       "24      xs\n",
       "25      xs\n",
       "26      xs\n",
       "27      xs\n",
       "28      xs\n",
       "29      xs\n",
       "        ..\n",
       "4724    xs\n",
       "4725    xs\n",
       "4726    xs\n",
       "4727    xs\n",
       "4728    xs\n",
       "4729    xs\n",
       "4730    xs\n",
       "4731    xs\n",
       "4732    xs\n",
       "4733    xs\n",
       "4734    xs\n",
       "4735    xs\n",
       "4736    xs\n",
       "4737    xs\n",
       "4738    xs\n",
       "4739    xs\n",
       "4740    xs\n",
       "4741    xs\n",
       "4742    xs\n",
       "4743    xs\n",
       "4744    xs\n",
       "4745    xs\n",
       "4746    xs\n",
       "4747    xs\n",
       "4748    xs\n",
       "4749    xs\n",
       "4750    xs\n",
       "4751    xs\n",
       "4752    xs\n",
       "4753    xs\n",
       "Name: source, Length: 4754, dtype: object"
      ]
     },
     "execution_count": 7,
     "metadata": {},
     "output_type": "execute_result"
    }
   ],
   "source": [
    "data['source']"
   ]
  },
  {
   "cell_type": "code",
   "execution_count": 8,
   "metadata": {},
   "outputs": [
    {
     "data": {
      "text/plain": [
       "0       2791858\n",
       "1        534047\n",
       "2       2849787\n",
       "3       1809708\n",
       "4       2499829\n",
       "5        518072\n",
       "6       1205125\n",
       "7       1129897\n",
       "8       2599411\n",
       "9       1413051\n",
       "10       321061\n",
       "11       750939\n",
       "12      1169544\n",
       "13       193188\n",
       "14      1780401\n",
       "15       999803\n",
       "16       203427\n",
       "17       829745\n",
       "18       818730\n",
       "19      2318583\n",
       "20      2770676\n",
       "21      2763960\n",
       "22      1272880\n",
       "23       800080\n",
       "24       654993\n",
       "25       140303\n",
       "26       148742\n",
       "27       713652\n",
       "28      3051745\n",
       "29      1870891\n",
       "         ...   \n",
       "4724    3401661\n",
       "4725    3089430\n",
       "4726    2123865\n",
       "4727     295148\n",
       "4728    2944213\n",
       "4729    1757011\n",
       "4730    3380919\n",
       "4731    1517438\n",
       "4732    3382649\n",
       "4733    2867902\n",
       "4734    2854394\n",
       "4735    2722837\n",
       "4736    3205825\n",
       "4737      11985\n",
       "4738     471607\n",
       "4739    3196970\n",
       "4740    2154764\n",
       "4741     490919\n",
       "4742    2404717\n",
       "4743    2475139\n",
       "4744    1039579\n",
       "4745    3361286\n",
       "4746     692541\n",
       "4747    1886940\n",
       "4748    1663311\n",
       "4749    3269862\n",
       "4750     270952\n",
       "4751    2425913\n",
       "4752     471395\n",
       "4753    1881943\n",
       "Name: custid, Length: 4754, dtype: int64"
      ]
     },
     "execution_count": 8,
     "metadata": {},
     "output_type": "execute_result"
    }
   ],
   "source": [
    "data['custid']"
   ]
  },
  {
   "cell_type": "code",
   "execution_count": 9,
   "metadata": {},
   "outputs": [
    {
     "data": {
      "text/html": [
       "<div>\n",
       "<style scoped>\n",
       "    .dataframe tbody tr th:only-of-type {\n",
       "        vertical-align: middle;\n",
       "    }\n",
       "\n",
       "    .dataframe tbody tr th {\n",
       "        vertical-align: top;\n",
       "    }\n",
       "\n",
       "    .dataframe thead th {\n",
       "        text-align: right;\n",
       "    }\n",
       "</style>\n",
       "<table border=\"1\" class=\"dataframe\">\n",
       "  <thead>\n",
       "    <tr style=\"text-align: right;\">\n",
       "      <th></th>\n",
       "      <th>trade_no</th>\n",
       "      <th>id_name</th>\n",
       "      <th>Unnamed: 0</th>\n",
       "    </tr>\n",
       "  </thead>\n",
       "  <tbody>\n",
       "    <tr>\n",
       "      <th>0</th>\n",
       "      <td>20180507115231274000000023057383</td>\n",
       "      <td>蒋红</td>\n",
       "      <td>5</td>\n",
       "    </tr>\n",
       "    <tr>\n",
       "      <th>1</th>\n",
       "      <td>20180507121002192000000023073000</td>\n",
       "      <td>崔向朝</td>\n",
       "      <td>10</td>\n",
       "    </tr>\n",
       "    <tr>\n",
       "      <th>2</th>\n",
       "      <td>20180507125159718000000023114911</td>\n",
       "      <td>王中云</td>\n",
       "      <td>12</td>\n",
       "    </tr>\n",
       "    <tr>\n",
       "      <th>3</th>\n",
       "      <td>20180507121358683000000388283484</td>\n",
       "      <td>何洋洋</td>\n",
       "      <td>13</td>\n",
       "    </tr>\n",
       "    <tr>\n",
       "      <th>4</th>\n",
       "      <td>20180507115448545000000388205844</td>\n",
       "      <td>赵洋</td>\n",
       "      <td>14</td>\n",
       "    </tr>\n",
       "    <tr>\n",
       "      <th>5</th>\n",
       "      <td>20180507121233054000000388275132</td>\n",
       "      <td>刘成</td>\n",
       "      <td>15</td>\n",
       "    </tr>\n",
       "    <tr>\n",
       "      <th>6</th>\n",
       "      <td>20180507121931540000000388298915</td>\n",
       "      <td>周雨浓</td>\n",
       "      <td>16</td>\n",
       "    </tr>\n",
       "    <tr>\n",
       "      <th>7</th>\n",
       "      <td>20180507124659235000000023105807</td>\n",
       "      <td>NaN</td>\n",
       "      <td>18</td>\n",
       "    </tr>\n",
       "    <tr>\n",
       "      <th>8</th>\n",
       "      <td>20180507115855621000000388224458</td>\n",
       "      <td>周琰龙</td>\n",
       "      <td>20</td>\n",
       "    </tr>\n",
       "    <tr>\n",
       "      <th>9</th>\n",
       "      <td>20180504155156296000000021138084</td>\n",
       "      <td>马晓辉</td>\n",
       "      <td>26</td>\n",
       "    </tr>\n",
       "    <tr>\n",
       "      <th>10</th>\n",
       "      <td>20180507123917136000000388381264</td>\n",
       "      <td>冯子涵</td>\n",
       "      <td>28</td>\n",
       "    </tr>\n",
       "    <tr>\n",
       "      <th>11</th>\n",
       "      <td>20180507121556599000000023080022</td>\n",
       "      <td>尚海</td>\n",
       "      <td>29</td>\n",
       "    </tr>\n",
       "    <tr>\n",
       "      <th>12</th>\n",
       "      <td>20180507114604230000000388176931</td>\n",
       "      <td>何俊踊</td>\n",
       "      <td>30</td>\n",
       "    </tr>\n",
       "    <tr>\n",
       "      <th>13</th>\n",
       "      <td>20180507115807011000000388215609</td>\n",
       "      <td>赵珊</td>\n",
       "      <td>33</td>\n",
       "    </tr>\n",
       "    <tr>\n",
       "      <th>14</th>\n",
       "      <td>20180507121351317000000388282601</td>\n",
       "      <td>齐健</td>\n",
       "      <td>37</td>\n",
       "    </tr>\n",
       "    <tr>\n",
       "      <th>15</th>\n",
       "      <td>20180507120312643000000388240340</td>\n",
       "      <td>覃杰脉</td>\n",
       "      <td>41</td>\n",
       "    </tr>\n",
       "    <tr>\n",
       "      <th>16</th>\n",
       "      <td>20180507115358209000000388203669</td>\n",
       "      <td>周火文</td>\n",
       "      <td>43</td>\n",
       "    </tr>\n",
       "    <tr>\n",
       "      <th>17</th>\n",
       "      <td>20180507123013060000000388346445</td>\n",
       "      <td>刘哲</td>\n",
       "      <td>46</td>\n",
       "    </tr>\n",
       "    <tr>\n",
       "      <th>18</th>\n",
       "      <td>20180507123317625000000388359399</td>\n",
       "      <td>林森华</td>\n",
       "      <td>48</td>\n",
       "    </tr>\n",
       "    <tr>\n",
       "      <th>19</th>\n",
       "      <td>20180507122754609000000388339559</td>\n",
       "      <td>王欢</td>\n",
       "      <td>49</td>\n",
       "    </tr>\n",
       "    <tr>\n",
       "      <th>20</th>\n",
       "      <td>20180507114736098000000388185623</td>\n",
       "      <td>张霞</td>\n",
       "      <td>50</td>\n",
       "    </tr>\n",
       "    <tr>\n",
       "      <th>21</th>\n",
       "      <td>20180507122338228000000023086166</td>\n",
       "      <td>徐翔</td>\n",
       "      <td>52</td>\n",
       "    </tr>\n",
       "    <tr>\n",
       "      <th>22</th>\n",
       "      <td>20180504181611848000000381832460</td>\n",
       "      <td>陈鹏</td>\n",
       "      <td>53</td>\n",
       "    </tr>\n",
       "    <tr>\n",
       "      <th>23</th>\n",
       "      <td>20180507123855945000000388380951</td>\n",
       "      <td>吴勤</td>\n",
       "      <td>60</td>\n",
       "    </tr>\n",
       "    <tr>\n",
       "      <th>24</th>\n",
       "      <td>20180507123355168000000388361170</td>\n",
       "      <td>梁健</td>\n",
       "      <td>61</td>\n",
       "    </tr>\n",
       "    <tr>\n",
       "      <th>25</th>\n",
       "      <td>20180504162411113000000021172853</td>\n",
       "      <td>张兵兵</td>\n",
       "      <td>62</td>\n",
       "    </tr>\n",
       "    <tr>\n",
       "      <th>26</th>\n",
       "      <td>20180507120445507000000388245413</td>\n",
       "      <td>张奔驰</td>\n",
       "      <td>64</td>\n",
       "    </tr>\n",
       "    <tr>\n",
       "      <th>27</th>\n",
       "      <td>20180507123830326000000388380639</td>\n",
       "      <td>段春红</td>\n",
       "      <td>71</td>\n",
       "    </tr>\n",
       "    <tr>\n",
       "      <th>28</th>\n",
       "      <td>20180507115610811000000388212340</td>\n",
       "      <td>郑晓光</td>\n",
       "      <td>80</td>\n",
       "    </tr>\n",
       "    <tr>\n",
       "      <th>29</th>\n",
       "      <td>20180507123310399000000388357579</td>\n",
       "      <td>谢志恒</td>\n",
       "      <td>88</td>\n",
       "    </tr>\n",
       "    <tr>\n",
       "      <th>...</th>\n",
       "      <td>...</td>\n",
       "      <td>...</td>\n",
       "      <td>...</td>\n",
       "    </tr>\n",
       "    <tr>\n",
       "      <th>4724</th>\n",
       "      <td>20180507124934620000000388416059</td>\n",
       "      <td>段宇佳</td>\n",
       "      <td>11923</td>\n",
       "    </tr>\n",
       "    <tr>\n",
       "      <th>4725</th>\n",
       "      <td>20180507122940057000000388342910</td>\n",
       "      <td>林峰华</td>\n",
       "      <td>11924</td>\n",
       "    </tr>\n",
       "    <tr>\n",
       "      <th>4726</th>\n",
       "      <td>20180504162011976000000381367953</td>\n",
       "      <td>赵发伟</td>\n",
       "      <td>11926</td>\n",
       "    </tr>\n",
       "    <tr>\n",
       "      <th>4727</th>\n",
       "      <td>20180507114821935000000388187853</td>\n",
       "      <td>何威</td>\n",
       "      <td>11927</td>\n",
       "    </tr>\n",
       "    <tr>\n",
       "      <th>4728</th>\n",
       "      <td>20180507120905394000000023072119</td>\n",
       "      <td>庞振宗</td>\n",
       "      <td>11930</td>\n",
       "    </tr>\n",
       "    <tr>\n",
       "      <th>4729</th>\n",
       "      <td>20180507123942186000000388381507</td>\n",
       "      <td>郭旭强</td>\n",
       "      <td>11932</td>\n",
       "    </tr>\n",
       "    <tr>\n",
       "      <th>4730</th>\n",
       "      <td>20180507124818814000000388411045</td>\n",
       "      <td>陈长城</td>\n",
       "      <td>11933</td>\n",
       "    </tr>\n",
       "    <tr>\n",
       "      <th>4731</th>\n",
       "      <td>20180507123928918000000388381394</td>\n",
       "      <td>罗森方</td>\n",
       "      <td>11936</td>\n",
       "    </tr>\n",
       "    <tr>\n",
       "      <th>4732</th>\n",
       "      <td>20180507124249332000000388393507</td>\n",
       "      <td>郑发春</td>\n",
       "      <td>11938</td>\n",
       "    </tr>\n",
       "    <tr>\n",
       "      <th>4733</th>\n",
       "      <td>20180507114636248000000388181870</td>\n",
       "      <td>孔迪俊</td>\n",
       "      <td>11940</td>\n",
       "    </tr>\n",
       "    <tr>\n",
       "      <th>4734</th>\n",
       "      <td>20180507124936647000000388418873</td>\n",
       "      <td>齐亚龙</td>\n",
       "      <td>11941</td>\n",
       "    </tr>\n",
       "    <tr>\n",
       "      <th>4735</th>\n",
       "      <td>20180507121900401000000388295882</td>\n",
       "      <td>魏欣旭</td>\n",
       "      <td>11945</td>\n",
       "    </tr>\n",
       "    <tr>\n",
       "      <th>4736</th>\n",
       "      <td>20180507124233969000000023103541</td>\n",
       "      <td>陈河根</td>\n",
       "      <td>11947</td>\n",
       "    </tr>\n",
       "    <tr>\n",
       "      <th>4737</th>\n",
       "      <td>20180504170134092000000381539852</td>\n",
       "      <td>黄彬彬</td>\n",
       "      <td>11950</td>\n",
       "    </tr>\n",
       "    <tr>\n",
       "      <th>4738</th>\n",
       "      <td>20180507114726030000000023048892</td>\n",
       "      <td>洪云飞</td>\n",
       "      <td>11953</td>\n",
       "    </tr>\n",
       "    <tr>\n",
       "      <th>4739</th>\n",
       "      <td>20180504161419403000000381329175</td>\n",
       "      <td>赵明</td>\n",
       "      <td>11957</td>\n",
       "    </tr>\n",
       "    <tr>\n",
       "      <th>4740</th>\n",
       "      <td>20180507115324523000000388201054</td>\n",
       "      <td>余孝意</td>\n",
       "      <td>11958</td>\n",
       "    </tr>\n",
       "    <tr>\n",
       "      <th>4741</th>\n",
       "      <td>20180504183705135000000381895535</td>\n",
       "      <td>潘培星</td>\n",
       "      <td>11959</td>\n",
       "    </tr>\n",
       "    <tr>\n",
       "      <th>4742</th>\n",
       "      <td>20180507125018925000000023111153</td>\n",
       "      <td>冯永</td>\n",
       "      <td>11964</td>\n",
       "    </tr>\n",
       "    <tr>\n",
       "      <th>4743</th>\n",
       "      <td>20180504170654830000000381561522</td>\n",
       "      <td>肖杰</td>\n",
       "      <td>11967</td>\n",
       "    </tr>\n",
       "    <tr>\n",
       "      <th>4744</th>\n",
       "      <td>20180507115029481000000388194850</td>\n",
       "      <td>李宇阳</td>\n",
       "      <td>11968</td>\n",
       "    </tr>\n",
       "    <tr>\n",
       "      <th>4745</th>\n",
       "      <td>20180507123619864000000388369012</td>\n",
       "      <td>孟祥彬</td>\n",
       "      <td>11969</td>\n",
       "    </tr>\n",
       "    <tr>\n",
       "      <th>4746</th>\n",
       "      <td>20180507125012243000000023109396</td>\n",
       "      <td>NaN</td>\n",
       "      <td>11972</td>\n",
       "    </tr>\n",
       "    <tr>\n",
       "      <th>4747</th>\n",
       "      <td>20180507123811494000000388377504</td>\n",
       "      <td>鄞佳旺</td>\n",
       "      <td>11974</td>\n",
       "    </tr>\n",
       "    <tr>\n",
       "      <th>4748</th>\n",
       "      <td>20180507121025853000000388266701</td>\n",
       "      <td>王成</td>\n",
       "      <td>11977</td>\n",
       "    </tr>\n",
       "    <tr>\n",
       "      <th>4749</th>\n",
       "      <td>20180507120519228000000388247328</td>\n",
       "      <td>王贤涛</td>\n",
       "      <td>11978</td>\n",
       "    </tr>\n",
       "    <tr>\n",
       "      <th>4750</th>\n",
       "      <td>20180507114937914000000388192877</td>\n",
       "      <td>胡晓歆宇</td>\n",
       "      <td>11986</td>\n",
       "    </tr>\n",
       "    <tr>\n",
       "      <th>4751</th>\n",
       "      <td>20180507121340509000000388278785</td>\n",
       "      <td>赵吉伟</td>\n",
       "      <td>11988</td>\n",
       "    </tr>\n",
       "    <tr>\n",
       "      <th>4752</th>\n",
       "      <td>20180504161827128000000381357758</td>\n",
       "      <td>罗松</td>\n",
       "      <td>11991</td>\n",
       "    </tr>\n",
       "    <tr>\n",
       "      <th>4753</th>\n",
       "      <td>20180507124243041000000388391027</td>\n",
       "      <td>李俊</td>\n",
       "      <td>11992</td>\n",
       "    </tr>\n",
       "  </tbody>\n",
       "</table>\n",
       "<p>4754 rows × 3 columns</p>\n",
       "</div>"
      ],
      "text/plain": [
       "                              trade_no id_name  Unnamed: 0\n",
       "0     20180507115231274000000023057383      蒋红           5\n",
       "1     20180507121002192000000023073000     崔向朝          10\n",
       "2     20180507125159718000000023114911     王中云          12\n",
       "3     20180507121358683000000388283484     何洋洋          13\n",
       "4     20180507115448545000000388205844      赵洋          14\n",
       "5     20180507121233054000000388275132      刘成          15\n",
       "6     20180507121931540000000388298915     周雨浓          16\n",
       "7     20180507124659235000000023105807     NaN          18\n",
       "8     20180507115855621000000388224458     周琰龙          20\n",
       "9     20180504155156296000000021138084     马晓辉          26\n",
       "10    20180507123917136000000388381264     冯子涵          28\n",
       "11    20180507121556599000000023080022      尚海          29\n",
       "12    20180507114604230000000388176931     何俊踊          30\n",
       "13    20180507115807011000000388215609      赵珊          33\n",
       "14    20180507121351317000000388282601      齐健          37\n",
       "15    20180507120312643000000388240340     覃杰脉          41\n",
       "16    20180507115358209000000388203669     周火文          43\n",
       "17    20180507123013060000000388346445      刘哲          46\n",
       "18    20180507123317625000000388359399     林森华          48\n",
       "19    20180507122754609000000388339559      王欢          49\n",
       "20    20180507114736098000000388185623      张霞          50\n",
       "21    20180507122338228000000023086166      徐翔          52\n",
       "22    20180504181611848000000381832460      陈鹏          53\n",
       "23    20180507123855945000000388380951      吴勤          60\n",
       "24    20180507123355168000000388361170      梁健          61\n",
       "25    20180504162411113000000021172853     张兵兵          62\n",
       "26    20180507120445507000000388245413     张奔驰          64\n",
       "27    20180507123830326000000388380639     段春红          71\n",
       "28    20180507115610811000000388212340     郑晓光          80\n",
       "29    20180507123310399000000388357579     谢志恒          88\n",
       "...                                ...     ...         ...\n",
       "4724  20180507124934620000000388416059     段宇佳       11923\n",
       "4725  20180507122940057000000388342910     林峰华       11924\n",
       "4726  20180504162011976000000381367953     赵发伟       11926\n",
       "4727  20180507114821935000000388187853      何威       11927\n",
       "4728  20180507120905394000000023072119     庞振宗       11930\n",
       "4729  20180507123942186000000388381507     郭旭强       11932\n",
       "4730  20180507124818814000000388411045     陈长城       11933\n",
       "4731  20180507123928918000000388381394     罗森方       11936\n",
       "4732  20180507124249332000000388393507     郑发春       11938\n",
       "4733  20180507114636248000000388181870     孔迪俊       11940\n",
       "4734  20180507124936647000000388418873     齐亚龙       11941\n",
       "4735  20180507121900401000000388295882     魏欣旭       11945\n",
       "4736  20180507124233969000000023103541     陈河根       11947\n",
       "4737  20180504170134092000000381539852     黄彬彬       11950\n",
       "4738  20180507114726030000000023048892     洪云飞       11953\n",
       "4739  20180504161419403000000381329175      赵明       11957\n",
       "4740  20180507115324523000000388201054     余孝意       11958\n",
       "4741  20180504183705135000000381895535     潘培星       11959\n",
       "4742  20180507125018925000000023111153      冯永       11964\n",
       "4743  20180504170654830000000381561522      肖杰       11967\n",
       "4744  20180507115029481000000388194850     李宇阳       11968\n",
       "4745  20180507123619864000000388369012     孟祥彬       11969\n",
       "4746  20180507125012243000000023109396     NaN       11972\n",
       "4747  20180507123811494000000388377504     鄞佳旺       11974\n",
       "4748  20180507121025853000000388266701      王成       11977\n",
       "4749  20180507120519228000000388247328     王贤涛       11978\n",
       "4750  20180507114937914000000388192877    胡晓歆宇       11986\n",
       "4751  20180507121340509000000388278785     赵吉伟       11988\n",
       "4752  20180504161827128000000381357758      罗松       11991\n",
       "4753  20180507124243041000000388391027      李俊       11992\n",
       "\n",
       "[4754 rows x 3 columns]"
      ]
     },
     "execution_count": 9,
     "metadata": {},
     "output_type": "execute_result"
    }
   ],
   "source": [
    "data[['trade_no', 'id_name', 'Unnamed: 0']]"
   ]
  },
  {
   "cell_type": "markdown",
   "metadata": {},
   "source": [
    "对以上字段进行 **drop** 删除操作！！\n",
    "\n",
    "**bank_card_no** 、 **source** 取值没有区分度，所以进行删除！\n",
    "\n",
    "**trade_no** 、 **id_name** 、 **Unnamed: 0** 、 **custid** 和 **预测** 没有关联，所以进行删除！"
   ]
  },
  {
   "cell_type": "markdown",
   "metadata": {},
   "source": [
    "### Note!\n",
    "(1) **axis 0** 表明用标签序列调用 **drop** 会从**行标签**删除值\n",
    "\n",
    "(2) **drop** 函数会修改 Series 或 DataFrame 的大小或形状，可以就地修改对象，不会返回新 的对象，所以，应该小心使用 **inplace**， 因为它会销毁所有被删除的数据！！！"
   ]
  },
  {
   "cell_type": "code",
   "execution_count": 10,
   "metadata": {},
   "outputs": [],
   "source": [
    "data.drop(['bank_card_no', 'source', 'trade_no', 'id_name', 'Unnamed: 0', 'custid'], axis=1, inplace=True)"
   ]
  },
  {
   "cell_type": "code",
   "execution_count": 15,
   "metadata": {},
   "outputs": [],
   "source": [
    "# data.drop(['custid'], axis=1, inplace=True)"
   ]
  },
  {
   "cell_type": "code",
   "execution_count": 11,
   "metadata": {},
   "outputs": [
    {
     "name": "stdout",
     "output_type": "stream",
     "text": [
      "(4754, 84)\n"
     ]
    }
   ],
   "source": [
    "print(data.shape)"
   ]
  },
  {
   "cell_type": "code",
   "execution_count": 12,
   "metadata": {},
   "outputs": [],
   "source": [
    "# 没有考虑时间序列，对日期属性做删除操作\n",
    "data.drop(['first_transaction_time', 'latest_query_time', 'loans_latest_time'], axis=1, inplace=True)"
   ]
  },
  {
   "cell_type": "code",
   "execution_count": 13,
   "metadata": {},
   "outputs": [
    {
     "name": "stdout",
     "output_type": "stream",
     "text": [
      "(4754, 81)\n"
     ]
    }
   ],
   "source": [
    "print(data.shape)"
   ]
  },
  {
   "cell_type": "markdown",
   "metadata": {},
   "source": [
    "###### 2.2 数据类型转换"
   ]
  },
  {
   "cell_type": "code",
   "execution_count": 14,
   "metadata": {},
   "outputs": [
    {
     "data": {
      "text/plain": [
       "一线城市    3403\n",
       "三线城市    1064\n",
       "境外       150\n",
       "二线城市     131\n",
       "其他城市       4\n",
       "Name: reg_preference_for_trad, dtype: int64"
      ]
     },
     "execution_count": 14,
     "metadata": {},
     "output_type": "execute_result"
    }
   ],
   "source": [
    "# 字符类型的特征处理\n",
    "data['reg_preference_for_trad'].value_counts()"
   ]
  },
  {
   "cell_type": "code",
   "execution_count": 15,
   "metadata": {},
   "outputs": [],
   "source": [
    "dic = {}\n",
    "for i, val in enumerate(list(data['reg_preference_for_trad'].unique())): # 复习 enumerate 操作\n",
    "    dic[val] = i"
   ]
  },
  {
   "cell_type": "code",
   "execution_count": 16,
   "metadata": {},
   "outputs": [
    {
     "data": {
      "text/plain": [
       "{nan: 5, '一线城市': 0, '三线城市': 1, '二线城市': 3, '其他城市': 4, '境外': 2}"
      ]
     },
     "execution_count": 16,
     "metadata": {},
     "output_type": "execute_result"
    }
   ],
   "source": [
    "dic"
   ]
  },
  {
   "cell_type": "code",
   "execution_count": 17,
   "metadata": {},
   "outputs": [
    {
     "data": {
      "text/plain": [
       "['一线城市', '三线城市', '境外', '二线城市', '其他城市', nan]"
      ]
     },
     "execution_count": 17,
     "metadata": {},
     "output_type": "execute_result"
    }
   ],
   "source": [
    "list(data['reg_preference_for_trad'].unique())# 提取唯一的特征值"
   ]
  },
  {
   "cell_type": "code",
   "execution_count": 18,
   "metadata": {},
   "outputs": [],
   "source": [
    "data['reg_preference_for_trad'] = data['reg_preference_for_trad'].map(dic) # 复习 map 操作"
   ]
  },
  {
   "cell_type": "code",
   "execution_count": 19,
   "metadata": {},
   "outputs": [
    {
     "name": "stdout",
     "output_type": "stream",
     "text": [
      "<class 'pandas.core.series.Series'>\n"
     ]
    }
   ],
   "source": [
    "print(type(data['reg_preference_for_trad']))"
   ]
  },
  {
   "cell_type": "code",
   "execution_count": 20,
   "metadata": {},
   "outputs": [
    {
     "data": {
      "text/plain": [
       "0       0\n",
       "1       0\n",
       "2       0\n",
       "3       1\n",
       "4       0\n",
       "5       1\n",
       "6       0\n",
       "7       0\n",
       "8       1\n",
       "9       0\n",
       "10      0\n",
       "11      0\n",
       "12      1\n",
       "13      0\n",
       "14      0\n",
       "15      0\n",
       "16      2\n",
       "17      0\n",
       "18      2\n",
       "19      0\n",
       "20      0\n",
       "21      0\n",
       "22      2\n",
       "23      1\n",
       "24      0\n",
       "25      2\n",
       "26      0\n",
       "27      1\n",
       "28      0\n",
       "29      0\n",
       "       ..\n",
       "4724    0\n",
       "4725    0\n",
       "4726    2\n",
       "4727    0\n",
       "4728    0\n",
       "4729    0\n",
       "4730    1\n",
       "4731    1\n",
       "4732    0\n",
       "4733    3\n",
       "4734    2\n",
       "4735    0\n",
       "4736    0\n",
       "4737    0\n",
       "4738    0\n",
       "4739    1\n",
       "4740    0\n",
       "4741    0\n",
       "4742    0\n",
       "4743    1\n",
       "4744    0\n",
       "4745    1\n",
       "4746    0\n",
       "4747    2\n",
       "4748    0\n",
       "4749    0\n",
       "4750    0\n",
       "4751    0\n",
       "4752    0\n",
       "4753    0\n",
       "Name: reg_preference_for_trad, Length: 4754, dtype: int64"
      ]
     },
     "execution_count": 20,
     "metadata": {},
     "output_type": "execute_result"
    }
   ],
   "source": [
    "data['reg_preference_for_trad']"
   ]
  },
  {
   "cell_type": "markdown",
   "metadata": {},
   "source": [
    "###### 2.3 缺失值处理"
   ]
  },
  {
   "cell_type": "code",
   "execution_count": 21,
   "metadata": {},
   "outputs": [
    {
     "name": "stdout",
     "output_type": "stream",
     "text": [
      "0.0421 % <==> low_volume_percent\n",
      "0.0421 % <==> middle_volume_percent\n",
      "0.0631 % <==> trans_amount_increase_rate_lately\n",
      "0.0421 % <==> trans_activity_month\n",
      "0.0421 % <==> trans_activity_day\n",
      "0.0421 % <==> transd_mcc\n",
      "0.1683 % <==> trans_days_interval_filter\n",
      "0.0421 % <==> trans_days_interval\n",
      "0.0421 % <==> regional_mobility\n",
      "63.0627 % <==> student_feature\n",
      "0.0421 % <==> number_of_trans_from_2011\n",
      "0.0421 % <==> historical_trans_day\n",
      "0.0421 % <==> rank_trad_1_month\n",
      "0.0421 % <==> avg_consume_less_12_valid_month\n",
      "0.0421 % <==> top_trans_count_last_1_month\n",
      "2.1876 % <==> avg_price_top_last_12_valid_month\n",
      "0.1683 % <==> trans_top_time_last_1_month\n",
      "0.1683 % <==> trans_top_time_last_6_month\n",
      "0.1683 % <==> consume_top_time_last_1_month\n",
      "0.1683 % <==> consume_top_time_last_6_month\n",
      "8.9609 % <==> cross_consume_count_last_1_month\n",
      "0.3366 % <==> trans_fail_top_count_enum_last_1_month\n",
      "0.3366 % <==> trans_fail_top_count_enum_last_6_month\n",
      "0.3366 % <==> trans_fail_top_count_enum_last_12_month\n",
      "0.5469 % <==> consume_mini_time_last_1_month\n",
      "0.1683 % <==> max_consume_count_later_6_month\n",
      "0.2524 % <==> railway_consume_count_last_12_month\n",
      "0.2524 % <==> jewelry_consume_count_last_6_month\n",
      "0.0421 % <==> first_transaction_day\n",
      "0.0421 % <==> trans_day_last_12_month\n",
      "6.3946 % <==> apply_score\n",
      "6.3946 % <==> apply_credibility\n",
      "6.3946 % <==> query_org_count\n",
      "6.3946 % <==> query_finance_count\n",
      "6.3946 % <==> query_cash_count\n",
      "6.3946 % <==> query_sum_count\n",
      "6.3946 % <==> latest_one_month_apply\n",
      "6.3946 % <==> latest_three_month_apply\n",
      "6.3946 % <==> latest_six_month_apply\n",
      "6.2474 % <==> loans_score\n",
      "6.2474 % <==> loans_credibility_behavior\n",
      "6.2474 % <==> loans_count\n",
      "6.2474 % <==> loans_settle_count\n",
      "6.2474 % <==> loans_overdue_count\n",
      "6.2474 % <==> loans_org_count_behavior\n",
      "6.2474 % <==> consfin_org_count_behavior\n",
      "6.2474 % <==> loans_cash_count\n",
      "6.2474 % <==> latest_one_month_loan\n",
      "6.2474 % <==> latest_three_month_loan\n",
      "6.2474 % <==> latest_six_month_loan\n",
      "6.2474 % <==> history_suc_fee\n",
      "6.2474 % <==> history_fail_fee\n",
      "6.2474 % <==> latest_one_month_suc\n",
      "6.2474 % <==> latest_one_month_fail\n",
      "6.2474 % <==> loans_long_time\n",
      "6.2474 % <==> loans_credit_limit\n",
      "6.2474 % <==> loans_credibility_limit\n",
      "6.2474 % <==> loans_org_count_current\n",
      "6.2474 % <==> loans_product_count\n",
      "6.2474 % <==> loans_max_limit\n",
      "6.2474 % <==> loans_avg_limit\n",
      "6.2474 % <==> consfin_credit_limit\n",
      "6.2474 % <==> consfin_credibility\n",
      "6.2474 % <==> consfin_org_count_current\n",
      "6.2474 % <==> consfin_product_count\n",
      "6.2474 % <==> consfin_max_limit\n",
      "6.2474 % <==> consfin_avg_limit\n",
      "6.3946 % <==> latest_query_day\n",
      "6.2474 % <==> loans_latest_day\n"
     ]
    }
   ],
   "source": [
    "for feature in data.columns:\n",
    "    summ = data[feature].isnull().sum()\n",
    "    if summ:\n",
    "        print('%.4f'%(summ*100/4754), '%',  '<==>', feature)"
   ]
  },
  {
   "cell_type": "markdown",
   "metadata": {},
   "source": [
    "###### 63.0627 % <==> student_feature \n",
    "- **student_feature** 缺失占比较多，用众数填充\n",
    "- data['student_feature'].**fillna**(1.0, inplace = True)"
   ]
  },
  {
   "cell_type": "code",
   "execution_count": 22,
   "metadata": {},
   "outputs": [
    {
     "data": {
      "text/plain": [
       "1.0    1754\n",
       "2.0       2\n",
       "Name: student_feature, dtype: int64"
      ]
     },
     "execution_count": 22,
     "metadata": {},
     "output_type": "execute_result"
    }
   ],
   "source": [
    "data['student_feature'].value_counts()"
   ]
  },
  {
   "cell_type": "code",
   "execution_count": 23,
   "metadata": {},
   "outputs": [],
   "source": [
    "data['student_feature'].fillna(1.0, inplace = True)"
   ]
  },
  {
   "cell_type": "code",
   "execution_count": 24,
   "metadata": {},
   "outputs": [
    {
     "data": {
      "text/plain": [
       "1.0    4752\n",
       "2.0       2\n",
       "Name: student_feature, dtype: int64"
      ]
     },
     "execution_count": 24,
     "metadata": {},
     "output_type": "execute_result"
    }
   ],
   "source": [
    "data['student_feature'].value_counts()"
   ]
  },
  {
   "cell_type": "markdown",
   "metadata": {},
   "source": [
    "- 其余特征用 **mean均值** 填充"
   ]
  },
  {
   "cell_type": "code",
   "execution_count": 25,
   "metadata": {},
   "outputs": [],
   "source": [
    "for feature in data.columns:\n",
    "    summ = data[feature].isnull().sum()\n",
    "    if summ:\n",
    "        data[feature].fillna(data[feature].mean(), inplace = True)"
   ]
  },
  {
   "cell_type": "markdown",
   "metadata": {},
   "source": [
    "### 3. 划分数据集"
   ]
  },
  {
   "cell_type": "code",
   "execution_count": 26,
   "metadata": {},
   "outputs": [],
   "source": [
    "features = [x for x in data.columns if x not in ['status']]"
   ]
  },
  {
   "cell_type": "code",
   "execution_count": 27,
   "metadata": {},
   "outputs": [
    {
     "data": {
      "text/plain": [
       "['low_volume_percent',\n",
       " 'middle_volume_percent',\n",
       " 'take_amount_in_later_12_month_highest',\n",
       " 'trans_amount_increase_rate_lately',\n",
       " 'trans_activity_month',\n",
       " 'trans_activity_day',\n",
       " 'transd_mcc',\n",
       " 'trans_days_interval_filter',\n",
       " 'trans_days_interval',\n",
       " 'regional_mobility',\n",
       " 'student_feature',\n",
       " 'repayment_capability',\n",
       " 'is_high_user',\n",
       " 'number_of_trans_from_2011',\n",
       " 'historical_trans_amount',\n",
       " 'historical_trans_day',\n",
       " 'rank_trad_1_month',\n",
       " 'trans_amount_3_month',\n",
       " 'avg_consume_less_12_valid_month',\n",
       " 'abs',\n",
       " 'top_trans_count_last_1_month',\n",
       " 'avg_price_last_12_month',\n",
       " 'avg_price_top_last_12_valid_month',\n",
       " 'reg_preference_for_trad',\n",
       " 'trans_top_time_last_1_month',\n",
       " 'trans_top_time_last_6_month',\n",
       " 'consume_top_time_last_1_month',\n",
       " 'consume_top_time_last_6_month',\n",
       " 'cross_consume_count_last_1_month',\n",
       " 'trans_fail_top_count_enum_last_1_month',\n",
       " 'trans_fail_top_count_enum_last_6_month',\n",
       " 'trans_fail_top_count_enum_last_12_month',\n",
       " 'consume_mini_time_last_1_month',\n",
       " 'max_cumulative_consume_later_1_month',\n",
       " 'max_consume_count_later_6_month',\n",
       " 'railway_consume_count_last_12_month',\n",
       " 'pawns_auctions_trusts_consume_last_1_month',\n",
       " 'pawns_auctions_trusts_consume_last_6_month',\n",
       " 'jewelry_consume_count_last_6_month',\n",
       " 'first_transaction_day',\n",
       " 'trans_day_last_12_month',\n",
       " 'apply_score',\n",
       " 'apply_credibility',\n",
       " 'query_org_count',\n",
       " 'query_finance_count',\n",
       " 'query_cash_count',\n",
       " 'query_sum_count',\n",
       " 'latest_one_month_apply',\n",
       " 'latest_three_month_apply',\n",
       " 'latest_six_month_apply',\n",
       " 'loans_score',\n",
       " 'loans_credibility_behavior',\n",
       " 'loans_count',\n",
       " 'loans_settle_count',\n",
       " 'loans_overdue_count',\n",
       " 'loans_org_count_behavior',\n",
       " 'consfin_org_count_behavior',\n",
       " 'loans_cash_count',\n",
       " 'latest_one_month_loan',\n",
       " 'latest_three_month_loan',\n",
       " 'latest_six_month_loan',\n",
       " 'history_suc_fee',\n",
       " 'history_fail_fee',\n",
       " 'latest_one_month_suc',\n",
       " 'latest_one_month_fail',\n",
       " 'loans_long_time',\n",
       " 'loans_credit_limit',\n",
       " 'loans_credibility_limit',\n",
       " 'loans_org_count_current',\n",
       " 'loans_product_count',\n",
       " 'loans_max_limit',\n",
       " 'loans_avg_limit',\n",
       " 'consfin_credit_limit',\n",
       " 'consfin_credibility',\n",
       " 'consfin_org_count_current',\n",
       " 'consfin_product_count',\n",
       " 'consfin_max_limit',\n",
       " 'consfin_avg_limit',\n",
       " 'latest_query_day',\n",
       " 'loans_latest_day']"
      ]
     },
     "execution_count": 27,
     "metadata": {},
     "output_type": "execute_result"
    }
   ],
   "source": [
    "features"
   ]
  },
  {
   "cell_type": "code",
   "execution_count": 28,
   "metadata": {},
   "outputs": [],
   "source": [
    "import warnings\n",
    "warnings.filterwarnings(\"ignore\")\n",
    "# 将数据集划分为训练集测试集\n",
    "from sklearn.model_selection import train_test_split\n",
    "# 预处理 标准化操作\n",
    "from sklearn.preprocessing import StandardScaler\n",
    "# 特征 与 标签\n",
    "X = data[features]\n",
    "y = data.status\n",
    "# 训练集 和 测试集\n",
    "X_train, X_test, y_train, y_test = train_test_split(X, y, test_size=0.3,random_state=2018)\n",
    "\n",
    "# 对特征进行归一化处理\n",
    "std = StandardScaler()\n",
    "X_train = std.fit_transform(X_train)\n",
    "X_test = std.transform(X_test)"
   ]
  },
  {
   "cell_type": "markdown",
   "metadata": {},
   "source": [
    "### 4. 模型选择"
   ]
  },
  {
   "cell_type": "markdown",
   "metadata": {},
   "source": [
    "- **Logistic Regression** 逻辑回归模型\n",
    "- **SVM** 模型\n",
    "- **Decision Tree** 决策树模型"
   ]
  },
  {
   "cell_type": "code",
   "execution_count": 29,
   "metadata": {},
   "outputs": [],
   "source": [
    "from sklearn.linear_model import LogisticRegression"
   ]
  },
  {
   "cell_type": "code",
   "execution_count": 30,
   "metadata": {},
   "outputs": [
    {
     "data": {
      "text/plain": [
       "LogisticRegression(C=1.0, class_weight=None, dual=False, fit_intercept=True,\n",
       "          intercept_scaling=1, max_iter=100, multi_class='ovr', n_jobs=1,\n",
       "          penalty='l2', random_state=None, solver='liblinear', tol=0.0001,\n",
       "          verbose=0, warm_start=False)"
      ]
     },
     "execution_count": 30,
     "metadata": {},
     "output_type": "execute_result"
    }
   ],
   "source": [
    "lr = LogisticRegression()\n",
    "lr.fit(X_train, y_train)"
   ]
  },
  {
   "cell_type": "code",
   "execution_count": 31,
   "metadata": {},
   "outputs": [],
   "source": [
    "from sklearn import svm"
   ]
  },
  {
   "cell_type": "code",
   "execution_count": 32,
   "metadata": {},
   "outputs": [],
   "source": [
    "svm_linear = svm.SVC(kernel = 'linear', probability=True).fit(X_train, y_train)\n",
    "svm_poly = svm.SVC(kernel = 'poly', probability=True).fit(X_train, y_train)\n",
    "svm_rbf = svm.SVC(probability=True).fit(X_train, y_train)\n",
    "svm_sigmoid = svm.SVC(kernel = 'sigmoid',probability=True).fit(X_train, y_train)"
   ]
  },
  {
   "cell_type": "code",
   "execution_count": 33,
   "metadata": {},
   "outputs": [],
   "source": [
    "from sklearn.tree import DecisionTreeClassifier"
   ]
  },
  {
   "cell_type": "code",
   "execution_count": 34,
   "metadata": {},
   "outputs": [
    {
     "data": {
      "text/plain": [
       "DecisionTreeClassifier(class_weight=None, criterion='gini', max_depth=4,\n",
       "            max_features=None, max_leaf_nodes=None,\n",
       "            min_impurity_decrease=0.0, min_impurity_split=None,\n",
       "            min_samples_leaf=1, min_samples_split=2,\n",
       "            min_weight_fraction_leaf=0.0, presort=False, random_state=None,\n",
       "            splitter='best')"
      ]
     },
     "execution_count": 34,
     "metadata": {},
     "output_type": "execute_result"
    }
   ],
   "source": [
    "dt = DecisionTreeClassifier(max_depth=4)\n",
    "dt.fit(X_train, y_train)"
   ]
  },
  {
   "cell_type": "markdown",
   "metadata": {},
   "source": [
    "### 5. 模型调参"
   ]
  },
  {
   "cell_type": "code",
   "execution_count": null,
   "metadata": {},
   "outputs": [],
   "source": []
  },
  {
   "cell_type": "markdown",
   "metadata": {},
   "source": [
    "### 6. 模型评估"
   ]
  },
  {
   "cell_type": "code",
   "execution_count": 35,
   "metadata": {},
   "outputs": [],
   "source": [
    "from sklearn.metrics import accuracy_score, precision_score, recall_score, f1_score\n",
    "from sklearn.metrics import roc_auc_score,roc_curve, auc\n",
    "import matplotlib.pyplot as plt\n",
    "%matplotlib inline"
   ]
  },
  {
   "cell_type": "code",
   "execution_count": 36,
   "metadata": {},
   "outputs": [],
   "source": [
    "def model_metrics(clf, X_train, X_test, y_train, y_test):\n",
    "    # 预测训练集和测试集\n",
    "    y_train_pred = clf.predict(X_train)\n",
    "    y_test_pred = clf.predict(X_test)\n",
    "    \n",
    "    y_train_proba = clf.predict_proba(X_train)[:,1]\n",
    "    y_test_proba = clf.predict_proba(X_test)[:,1]\n",
    "    \n",
    "    # 准确率Accuracy\n",
    "    print('[准确率]', end = ' ')\n",
    "    print('训练集：', '%.4f'%accuracy_score(y_train, y_train_pred), end = ' ')\n",
    "    print('测试集：', '%.4f'%accuracy_score(y_test, y_test_pred))\n",
    "    \n",
    "    # 精准率Precision\n",
    "    print('[精准率]', end = ' ')\n",
    "    print('训练集：', '%.4f'%precision_score(y_train, y_train_pred), end = ' ')\n",
    "    print('测试集：', '%.4f'%precision_score(y_test, y_test_pred))\n",
    "\n",
    "    # 召回率Recall\n",
    "    print('[召回率]', end = ' ')\n",
    "    print('训练集：', '%.4f'%recall_score(y_train, y_train_pred), end = ' ')\n",
    "    print('测试集：', '%.4f'%recall_score(y_test, y_test_pred))\n",
    "    \n",
    "    # f1-score\n",
    "    print('[f1-score]', end = ' ')\n",
    "    print('训练集：', '%.4f'%f1_score(y_train, y_train_pred), end = ' ')\n",
    "    print('测试集：', '%.4f'%f1_score(y_test, y_test_pred))\n",
    "    \n",
    "    # AUC取值\n",
    "    print('[auc值]', end = ' ')\n",
    "    print('训练集：', '%.4f'%roc_auc_score(y_train, y_train_proba), end = ' ')\n",
    "    print('测试集：', '%.4f'%roc_auc_score(y_test, y_test_proba))\n",
    "    \n",
    "    # ROC曲线\n",
    "    fpr_train, tpr_train, thresholds_train = roc_curve(y_train, y_train_proba, pos_label = 1)\n",
    "    fpr_test, tpr_test, thresholds_test = roc_curve(y_test, y_test_proba, pos_label = 1)\n",
    "    \n",
    "    label = [\"Train - AUC:{:.4f}\".format(auc(fpr_train, tpr_train)), \n",
    "             \"Test - AUC:{:.4f}\".format(auc(fpr_test, tpr_test))]\n",
    "    plt.plot(fpr_train,tpr_train)\n",
    "    plt.plot(fpr_test,tpr_test)\n",
    "    plt.plot([0, 1], [0, 1], 'd--')\n",
    "    plt.xlabel('False Positive Rate')\n",
    "    plt.ylabel('True Positive Rate')\n",
    "    plt.legend(label, loc = 4)\n",
    "    plt.title(\"ROC curve\")"
   ]
  },
  {
   "cell_type": "code",
   "execution_count": null,
   "metadata": {},
   "outputs": [],
   "source": []
  },
  {
   "cell_type": "code",
   "execution_count": 37,
   "metadata": {},
   "outputs": [
    {
     "name": "stdout",
     "output_type": "stream",
     "text": [
      "[准确率] 训练集： 0.8031 测试集： 0.7814\n",
      "[精准率] 训练集： 0.7020 测试集： 0.6374\n",
      "[召回率] 训练集： 0.3729 测试集： 0.3036\n",
      "[f1-score] 训练集： 0.4871 测试集： 0.4113\n",
      "[auc值] 训练集： 0.8193 测试集： 0.7666\n"
     ]
    },
    {
     "data": {
      "image/png": "[encoded data removed]",
      "text/plain": [
       "<matplotlib.figure.Figure at 0x1d0e1f60>"
      ]
     },
     "metadata": {},
     "output_type": "display_data"
    }
   ],
   "source": [
    "# 逻辑回归\n",
    "model_metrics(lr, X_train, X_test, y_train, y_test)"
   ]
  },
  {
   "cell_type": "code",
   "execution_count": null,
   "metadata": {},
   "outputs": [],
   "source": []
  },
  {
   "cell_type": "code",
   "execution_count": 38,
   "metadata": {},
   "outputs": [
    {
     "name": "stdout",
     "output_type": "stream",
     "text": [
      "[准确率] 训练集： 0.8046 测试集： 0.7772\n",
      "[精准率] 训练集： 0.7822 测试集： 0.6614\n",
      "[召回率] 训练集： 0.3058 测试集： 0.2340\n",
      "[f1-score] 训练集： 0.4397 测试集： 0.3457\n",
      "[auc值] 训练集： 0.8174 测试集： 0.7761\n"
     ]
    },
    {
     "data": {
      "image/png": "[encoded data removed]",
      "text/plain": [
       "<matplotlib.figure.Figure at 0x1d140320>"
      ]
     },
     "metadata": {},
     "output_type": "display_data"
    }
   ],
   "source": [
    "# 线性SVM\n",
    "model_metrics(svm_linear, X_train, X_test, y_train, y_test)"
   ]
  },
  {
   "cell_type": "code",
   "execution_count": null,
   "metadata": {},
   "outputs": [],
   "source": []
  },
  {
   "cell_type": "code",
   "execution_count": 39,
   "metadata": {},
   "outputs": [
    {
     "name": "stdout",
     "output_type": "stream",
     "text": [
      "[准确率] 训练集： 0.8281 测试集： 0.7526\n",
      "[精准率] 训练集： 0.9746 测试集： 0.5341\n",
      "[召回率] 训练集： 0.3225 测试集： 0.1309\n",
      "[f1-score] 训练集： 0.4847 测试集： 0.2103\n",
      "[auc值] 训练集： 0.9443 测试集： 0.7118\n"
     ]
    },
    {
     "data": {
      "image/png": "[encoded data removed]",
      "text/plain": [
       "<matplotlib.figure.Figure at 0x1f224c50>"
      ]
     },
     "metadata": {},
     "output_type": "display_data"
    }
   ],
   "source": [
    "# 多项式SVM\n",
    "model_metrics(svm_poly, X_train, X_test, y_train, y_test)"
   ]
  },
  {
   "cell_type": "code",
   "execution_count": null,
   "metadata": {},
   "outputs": [],
   "source": []
  },
  {
   "cell_type": "code",
   "execution_count": 40,
   "metadata": {},
   "outputs": [
    {
     "name": "stdout",
     "output_type": "stream",
     "text": [
      "[准确率] 训练集： 0.8386 测试集： 0.7786\n",
      "[精准率] 训练集： 0.9046 测试集： 0.6777\n",
      "[召回率] 训练集： 0.3981 测试集： 0.2284\n",
      "[f1-score] 训练集： 0.5529 测试集： 0.3417\n",
      "[auc值] 训练集： 0.9141 测试集： 0.7500\n"
     ]
    },
    {
     "data": {
      "image/png": "[encoded data removed]",
      "text/plain": [
       "<matplotlib.figure.Figure at 0x1f261ba8>"
      ]
     },
     "metadata": {},
     "output_type": "display_data"
    }
   ],
   "source": [
    "# 高斯核SVM\n",
    "model_metrics(svm_rbf, X_train, X_test, y_train, y_test)"
   ]
  },
  {
   "cell_type": "code",
   "execution_count": null,
   "metadata": {},
   "outputs": [],
   "source": []
  },
  {
   "cell_type": "code",
   "execution_count": 41,
   "metadata": {},
   "outputs": [
    {
     "name": "stdout",
     "output_type": "stream",
     "text": [
      "[准确率] 训练集： 0.7220 测试集： 0.7225\n",
      "[精准率] 训练集： 0.4364 测试集： 0.4364\n",
      "[召回率] 训练集： 0.3741 测试集： 0.3538\n",
      "[f1-score] 训练集： 0.4028 测试集： 0.3908\n",
      "[auc值] 训练集： 0.6411 测试集： 0.6542\n"
     ]
    },
    {
     "data": {
      "image/png": "[encoded data removed]",
      "text/plain": [
       "<matplotlib.figure.Figure at 0x1f2ca5c0>"
      ]
     },
     "metadata": {},
     "output_type": "display_data"
    }
   ],
   "source": [
    "# sigmoid-SVM\n",
    "model_metrics(svm_sigmoid, X_train, X_test, y_train, y_test)"
   ]
  },
  {
   "cell_type": "code",
   "execution_count": 42,
   "metadata": {},
   "outputs": [
    {
     "name": "stdout",
     "output_type": "stream",
     "text": [
      "[准确率] 训练集： 0.8028 测试集： 0.7589\n",
      "[精准率] 训练集： 0.6648 测试集： 0.5314\n",
      "[召回率] 训练集： 0.4305 测试集： 0.3538\n",
      "[f1-score] 训练集： 0.5226 测试集： 0.4247\n",
      "[auc值] 训练集： 0.7734 测试集： 0.6932\n"
     ]
    },
    {
     "data": {
      "image/png": "[encoded data removed]",
      "text/plain": [
       "<matplotlib.figure.Figure at 0x1f376e48>"
      ]
     },
     "metadata": {},
     "output_type": "display_data"
    }
   ],
   "source": [
    "# 决策树\n",
    "model_metrics(dt, X_train, X_test, y_train, y_test)"
   ]
  },
  {
   "cell_type": "code",
   "execution_count": null,
   "metadata": {},
   "outputs": [],
   "source": []
  },
  {
   "cell_type": "markdown",
   "metadata": {},
   "source": [
    "### Descussion"
   ]
  },
  {
   "cell_type": "code",
   "execution_count": null,
   "metadata": {},
   "outputs": [],
   "source": []
  },
  {
   "cell_type": "markdown",
   "metadata": {},
   "source": [
    "### Summary"
   ]
  },
  {
   "cell_type": "code",
   "execution_count": null,
   "metadata": {},
   "outputs": [],
   "source": []
  }
 ],
 "metadata": {
  "kernelspec": {
   "display_name": "Python 3",
   "language": "python",
   "name": "python3"
  },
  "language_info": {
   "codemirror_mode": {
    "name": "ipython",
    "version": 3
   },
   "file_extension": ".py",
   "mimetype": "text/x-python",
   "name": "python",
   "nbconvert_exporter": "python",
   "pygments_lexer": "ipython3",
   "version": "3.6.4"
  }
 },
 "nbformat": 4,
 "nbformat_minor": 2
}
