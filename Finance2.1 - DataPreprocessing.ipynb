{
 "cells": [
  {
   "cell_type": "markdown",
   "metadata": {
    "toc": true
   },
   "source": [
    "<h1>Table of Contents<span class=\"tocSkip\"></span></h1>\n",
    "<div class=\"toc\"><ul class=\"toc-item\"><li><span><a href=\"#数据预处理-(判定贷款用户是否逾期)\" data-toc-modified-id=\"数据预处理-(判定贷款用户是否逾期)-1\"><span class=\"toc-item-num\">1&nbsp;&nbsp;</span>数据预处理 (判定贷款用户是否逾期)</a></span><ul class=\"toc-item\"><li><span><a href=\"#删除无用特征\" data-toc-modified-id=\"删除无用特征-1.1\"><span class=\"toc-item-num\">1.1&nbsp;&nbsp;</span>删除无用特征</a></span></li><li><span><a href=\"#数据格式化---X_date\" data-toc-modified-id=\"数据格式化---X_date-1.2\"><span class=\"toc-item-num\">1.2&nbsp;&nbsp;</span>数据格式化 - X_date</a></span></li><li><span><a href=\"#数据处理---类别特征-X_cate\" data-toc-modified-id=\"数据处理---类别特征-X_cate-1.3\"><span class=\"toc-item-num\">1.3&nbsp;&nbsp;</span>数据处理 - 类别特征 X_cate</a></span></li><li><span><a href=\"#数据处理---其他非数值型特征\" data-toc-modified-id=\"数据处理---其他非数值型特征-1.4\"><span class=\"toc-item-num\">1.4&nbsp;&nbsp;</span>数据处理 - 其他非数值型特征</a></span></li><li><span><a href=\"#数据处理---数值型特征-X_num\" data-toc-modified-id=\"数据处理---数值型特征-X_num-1.5\"><span class=\"toc-item-num\">1.5&nbsp;&nbsp;</span>数据处理 - 数值型特征 X_num</a></span></li><li><span><a href=\"#特征拼接与存储\" data-toc-modified-id=\"特征拼接与存储-1.6\"><span class=\"toc-item-num\">1.6&nbsp;&nbsp;</span>特征拼接与存储</a></span></li></ul></li><li><span><a href=\"#遇到的问题\" data-toc-modified-id=\"遇到的问题-2\"><span class=\"toc-item-num\">2&nbsp;&nbsp;</span>遇到的问题</a></span></li><li><span><a href=\"#Reference\" data-toc-modified-id=\"Reference-3\"><span class=\"toc-item-num\">3&nbsp;&nbsp;</span>Reference</a></span></li></ul></div>"
   ]
  },
  {
   "cell_type": "markdown",
   "metadata": {},
   "source": [
    "# 数据预处理 (判定贷款用户是否逾期)"
   ]
  },
  {
   "cell_type": "markdown",
   "metadata": {},
   "source": [
    "给定金融数据，预测贷款用户是否会逾期。\n",
    "（status是标签：0表示未逾期，1表示逾期。）\n",
    "\n",
    "**Task5（特征工程1 - 数据预处理）** - 数据类型转换, 无用特征删除, 缺失值处理（尝试不同的填充看效果）及数据探索"
   ]
  },
  {
   "cell_type": "code",
   "execution_count": 1,
   "metadata": {
    "collapsed": true
   },
   "outputs": [],
   "source": [
    "import numpy as np\n",
    "import pandas as pd\n",
    "import warnings\n",
    "warnings.filterwarnings(\"ignore\")"
   ]
  },
  {
   "cell_type": "code",
   "execution_count": 2,
   "metadata": {
    "scrolled": true
   },
   "outputs": [
    {
     "name": "stdout",
     "output_type": "stream",
     "text": [
      "(4754, 90)\n"
     ]
    },
    {
     "data": {
      "text/html": [
       "<div>\n",
       "<style>\n",
       "    .dataframe thead tr:only-child th {\n",
       "        text-align: right;\n",
       "    }\n",
       "\n",
       "    .dataframe thead th {\n",
       "        text-align: left;\n",
       "    }\n",
       "\n",
       "    .dataframe tbody tr th {\n",
       "        vertical-align: top;\n",
       "    }\n",
       "</style>\n",
       "<table border=\"1\" class=\"dataframe\">\n",
       "  <thead>\n",
       "    <tr style=\"text-align: right;\">\n",
       "      <th></th>\n",
       "      <th>Unnamed: 0</th>\n",
       "      <th>custid</th>\n",
       "      <th>trade_no</th>\n",
       "      <th>bank_card_no</th>\n",
       "      <th>low_volume_percent</th>\n",
       "      <th>middle_volume_percent</th>\n",
       "      <th>take_amount_in_later_12_month_highest</th>\n",
       "      <th>trans_amount_increase_rate_lately</th>\n",
       "      <th>trans_activity_month</th>\n",
       "      <th>trans_activity_day</th>\n",
       "      <th>...</th>\n",
       "      <th>loans_max_limit</th>\n",
       "      <th>loans_avg_limit</th>\n",
       "      <th>consfin_credit_limit</th>\n",
       "      <th>consfin_credibility</th>\n",
       "      <th>consfin_org_count_current</th>\n",
       "      <th>consfin_product_count</th>\n",
       "      <th>consfin_max_limit</th>\n",
       "      <th>consfin_avg_limit</th>\n",
       "      <th>latest_query_day</th>\n",
       "      <th>loans_latest_day</th>\n",
       "    </tr>\n",
       "  </thead>\n",
       "  <tbody>\n",
       "    <tr>\n",
       "      <th>0</th>\n",
       "      <td>5</td>\n",
       "      <td>2791858</td>\n",
       "      <td>20180507115231274000000023057383</td>\n",
       "      <td>卡号1</td>\n",
       "      <td>0.01</td>\n",
       "      <td>0.99</td>\n",
       "      <td>0</td>\n",
       "      <td>0.90</td>\n",
       "      <td>0.55</td>\n",
       "      <td>0.313</td>\n",
       "      <td>...</td>\n",
       "      <td>2900.0</td>\n",
       "      <td>1688.0</td>\n",
       "      <td>1200.0</td>\n",
       "      <td>75.0</td>\n",
       "      <td>1.0</td>\n",
       "      <td>2.0</td>\n",
       "      <td>1200.0</td>\n",
       "      <td>1200.0</td>\n",
       "      <td>12.0</td>\n",
       "      <td>18.0</td>\n",
       "    </tr>\n",
       "    <tr>\n",
       "      <th>1</th>\n",
       "      <td>10</td>\n",
       "      <td>534047</td>\n",
       "      <td>20180507121002192000000023073000</td>\n",
       "      <td>卡号1</td>\n",
       "      <td>0.02</td>\n",
       "      <td>0.94</td>\n",
       "      <td>2000</td>\n",
       "      <td>1.28</td>\n",
       "      <td>1.00</td>\n",
       "      <td>0.458</td>\n",
       "      <td>...</td>\n",
       "      <td>3500.0</td>\n",
       "      <td>1758.0</td>\n",
       "      <td>15100.0</td>\n",
       "      <td>80.0</td>\n",
       "      <td>5.0</td>\n",
       "      <td>6.0</td>\n",
       "      <td>22800.0</td>\n",
       "      <td>9360.0</td>\n",
       "      <td>4.0</td>\n",
       "      <td>2.0</td>\n",
       "    </tr>\n",
       "    <tr>\n",
       "      <th>2</th>\n",
       "      <td>12</td>\n",
       "      <td>2849787</td>\n",
       "      <td>20180507125159718000000023114911</td>\n",
       "      <td>卡号1</td>\n",
       "      <td>0.04</td>\n",
       "      <td>0.96</td>\n",
       "      <td>0</td>\n",
       "      <td>1.00</td>\n",
       "      <td>1.00</td>\n",
       "      <td>0.114</td>\n",
       "      <td>...</td>\n",
       "      <td>1600.0</td>\n",
       "      <td>1250.0</td>\n",
       "      <td>4200.0</td>\n",
       "      <td>87.0</td>\n",
       "      <td>1.0</td>\n",
       "      <td>1.0</td>\n",
       "      <td>4200.0</td>\n",
       "      <td>4200.0</td>\n",
       "      <td>2.0</td>\n",
       "      <td>6.0</td>\n",
       "    </tr>\n",
       "    <tr>\n",
       "      <th>3</th>\n",
       "      <td>13</td>\n",
       "      <td>1809708</td>\n",
       "      <td>20180507121358683000000388283484</td>\n",
       "      <td>卡号1</td>\n",
       "      <td>0.00</td>\n",
       "      <td>0.96</td>\n",
       "      <td>2000</td>\n",
       "      <td>0.13</td>\n",
       "      <td>0.57</td>\n",
       "      <td>0.777</td>\n",
       "      <td>...</td>\n",
       "      <td>3200.0</td>\n",
       "      <td>1541.0</td>\n",
       "      <td>16300.0</td>\n",
       "      <td>80.0</td>\n",
       "      <td>5.0</td>\n",
       "      <td>5.0</td>\n",
       "      <td>30000.0</td>\n",
       "      <td>12180.0</td>\n",
       "      <td>2.0</td>\n",
       "      <td>4.0</td>\n",
       "    </tr>\n",
       "    <tr>\n",
       "      <th>4</th>\n",
       "      <td>14</td>\n",
       "      <td>2499829</td>\n",
       "      <td>20180507115448545000000388205844</td>\n",
       "      <td>卡号1</td>\n",
       "      <td>0.01</td>\n",
       "      <td>0.99</td>\n",
       "      <td>0</td>\n",
       "      <td>0.46</td>\n",
       "      <td>1.00</td>\n",
       "      <td>0.175</td>\n",
       "      <td>...</td>\n",
       "      <td>2300.0</td>\n",
       "      <td>1630.0</td>\n",
       "      <td>8300.0</td>\n",
       "      <td>79.0</td>\n",
       "      <td>2.0</td>\n",
       "      <td>2.0</td>\n",
       "      <td>8400.0</td>\n",
       "      <td>8250.0</td>\n",
       "      <td>22.0</td>\n",
       "      <td>120.0</td>\n",
       "    </tr>\n",
       "  </tbody>\n",
       "</table>\n",
       "<p>5 rows × 90 columns</p>\n",
       "</div>"
      ],
      "text/plain": [
       "   Unnamed: 0   custid                          trade_no bank_card_no  \\\n",
       "0           5  2791858  20180507115231274000000023057383          卡号1   \n",
       "1          10   534047  20180507121002192000000023073000          卡号1   \n",
       "2          12  2849787  20180507125159718000000023114911          卡号1   \n",
       "3          13  1809708  20180507121358683000000388283484          卡号1   \n",
       "4          14  2499829  20180507115448545000000388205844          卡号1   \n",
       "\n",
       "   low_volume_percent  middle_volume_percent  \\\n",
       "0                0.01                   0.99   \n",
       "1                0.02                   0.94   \n",
       "2                0.04                   0.96   \n",
       "3                0.00                   0.96   \n",
       "4                0.01                   0.99   \n",
       "\n",
       "   take_amount_in_later_12_month_highest  trans_amount_increase_rate_lately  \\\n",
       "0                                      0                               0.90   \n",
       "1                                   2000                               1.28   \n",
       "2                                      0                               1.00   \n",
       "3                                   2000                               0.13   \n",
       "4                                      0                               0.46   \n",
       "\n",
       "   trans_activity_month  trans_activity_day        ...         \\\n",
       "0                  0.55               0.313        ...          \n",
       "1                  1.00               0.458        ...          \n",
       "2                  1.00               0.114        ...          \n",
       "3                  0.57               0.777        ...          \n",
       "4                  1.00               0.175        ...          \n",
       "\n",
       "   loans_max_limit  loans_avg_limit  consfin_credit_limit  \\\n",
       "0           2900.0           1688.0                1200.0   \n",
       "1           3500.0           1758.0               15100.0   \n",
       "2           1600.0           1250.0                4200.0   \n",
       "3           3200.0           1541.0               16300.0   \n",
       "4           2300.0           1630.0                8300.0   \n",
       "\n",
       "   consfin_credibility  consfin_org_count_current  consfin_product_count  \\\n",
       "0                 75.0                        1.0                    2.0   \n",
       "1                 80.0                        5.0                    6.0   \n",
       "2                 87.0                        1.0                    1.0   \n",
       "3                 80.0                        5.0                    5.0   \n",
       "4                 79.0                        2.0                    2.0   \n",
       "\n",
       "   consfin_max_limit  consfin_avg_limit  latest_query_day  loans_latest_day  \n",
       "0             1200.0             1200.0              12.0              18.0  \n",
       "1            22800.0             9360.0               4.0               2.0  \n",
       "2             4200.0             4200.0               2.0               6.0  \n",
       "3            30000.0            12180.0               2.0               4.0  \n",
       "4             8400.0             8250.0              22.0             120.0  \n",
       "\n",
       "[5 rows x 90 columns]"
      ]
     },
     "execution_count": 2,
     "metadata": {},
     "output_type": "execute_result"
    }
   ],
   "source": [
    "# 数据集预览\n",
    "data = pd.read_csv('data.csv')\n",
    "# 去重\n",
    "data.drop_duplicates(inplace=True)\n",
    "print(data.shape)\n",
    "data.head()"
   ]
  },
  {
   "cell_type": "code",
   "execution_count": 3,
   "metadata": {},
   "outputs": [
    {
     "data": {
      "text/plain": [
       "0    3561\n",
       "1    1193\n",
       "Name: status, dtype: int64"
      ]
     },
     "execution_count": 3,
     "metadata": {},
     "output_type": "execute_result"
    }
   ],
   "source": [
    "y = data.status\n",
    "X = data.drop('status', axis=1)\n",
    "\n",
    "# 观测正负样本是否均衡\n",
    "y.value_counts()"
   ]
  },
  {
   "cell_type": "code",
   "execution_count": 4,
   "metadata": {},
   "outputs": [
    {
     "data": {
      "text/plain": [
       "{dtype('int64'), dtype('float64'), dtype('O')}"
      ]
     },
     "execution_count": 4,
     "metadata": {},
     "output_type": "execute_result"
    }
   ],
   "source": [
    "# 变量类型\n",
    "set(X.dtypes)"
   ]
  },
  {
   "cell_type": "markdown",
   "metadata": {},
   "source": [
    "## 删除无用特征\n",
    "\n",
    "**删除原则**\n",
    "\n",
    "> 1）属性值单一的特征;\n",
    "\n",
    "> 2）观测特征取值以及label意义, 挑选和预测无关的特征"
   ]
  },
  {
   "cell_type": "markdown",
   "metadata": {},
   "source": [
    "1）**属性值单一的特征** - 'bank_card_no','source'的取值**无区分度**"
   ]
  },
  {
   "cell_type": "code",
   "execution_count": 5,
   "metadata": {},
   "outputs": [
    {
     "name": "stdout",
     "output_type": "stream",
     "text": [
      "bank_card_no ['卡号1']\n",
      "source ['xs']\n"
     ]
    }
   ],
   "source": [
    "for col in X.columns:\n",
    "    if len(X[col].unique()) == 1:\n",
    "        print(col, X[col].unique())\n",
    "        X.drop(col, axis = 1, inplace = True)"
   ]
  },
  {
   "cell_type": "markdown",
   "metadata": {},
   "source": [
    "2）观测特征取值以及label意义, 是否**和预测无关** - 'Unnamed: 0', 'custid', 'trade_no'和id_name'**与预测无关**"
   ]
  },
  {
   "cell_type": "code",
   "execution_count": 6,
   "metadata": {},
   "outputs": [
    {
     "name": "stdout",
     "output_type": "stream",
     "text": [
      "Unnamed: 0\n",
      "custid\n",
      "trade_no\n"
     ]
    }
   ],
   "source": [
    "for col in X.columns:\n",
    "    cnt = X[col].count()    # 没有统计缺失值\n",
    "    if len(list(X[col].unique())) in [cnt, cnt+1]:\n",
    "        print(col)"
   ]
  },
  {
   "cell_type": "code",
   "execution_count": 7,
   "metadata": {
    "collapsed": true
   },
   "outputs": [],
   "source": [
    "# X['Unnamed: 0']\n",
    "# X['custid']\n",
    "# X['trade_no]\n",
    "# X['id_name'].value_counts()"
   ]
  },
  {
   "cell_type": "code",
   "execution_count": 8,
   "metadata": {
    "collapsed": true
   },
   "outputs": [],
   "source": [
    "X.drop(['Unnamed: 0', 'custid', 'trade_no', 'id_name'], axis=1, inplace=True)"
   ]
  },
  {
   "cell_type": "markdown",
   "metadata": {},
   "source": [
    "## 数据格式化 - X_date\n",
    "\n",
    "（此处主要针对**时间特征**, 且此处时间特征仅包含日期特征）\n",
    "\n",
    "**日期特征处理流程**\n",
    "\n",
    "> 1）浮点型日期转换成字符串型\n",
    "\n",
    "> 2）取出日期，构建年份、月份、周几等特征\n",
    "\n",
    "> 3）进一步（特征构建）：groupby对特征进行统计分析"
   ]
  },
  {
   "cell_type": "code",
   "execution_count": 9,
   "metadata": {
    "collapsed": true
   },
   "outputs": [],
   "source": [
    "dateFeatures = ['first_transaction_time', 'latest_query_time', 'loans_latest_time']\n",
    "X_date = X[dateFeatures]"
   ]
  },
  {
   "cell_type": "code",
   "execution_count": 10,
   "metadata": {},
   "outputs": [
    {
     "data": {
      "text/html": [
       "<div>\n",
       "<style>\n",
       "    .dataframe thead tr:only-child th {\n",
       "        text-align: right;\n",
       "    }\n",
       "\n",
       "    .dataframe thead th {\n",
       "        text-align: left;\n",
       "    }\n",
       "\n",
       "    .dataframe tbody tr th {\n",
       "        vertical-align: top;\n",
       "    }\n",
       "</style>\n",
       "<table border=\"1\" class=\"dataframe\">\n",
       "  <thead>\n",
       "    <tr style=\"text-align: right;\">\n",
       "      <th></th>\n",
       "      <th>first_transaction_time</th>\n",
       "      <th>latest_query_time</th>\n",
       "      <th>loans_latest_time</th>\n",
       "    </tr>\n",
       "  </thead>\n",
       "  <tbody>\n",
       "    <tr>\n",
       "      <th>0</th>\n",
       "      <td>20130817.0</td>\n",
       "      <td>2018-04-25</td>\n",
       "      <td>2018-04-19</td>\n",
       "    </tr>\n",
       "    <tr>\n",
       "      <th>1</th>\n",
       "      <td>20160402.0</td>\n",
       "      <td>2018-05-03</td>\n",
       "      <td>2018-05-05</td>\n",
       "    </tr>\n",
       "    <tr>\n",
       "      <th>2</th>\n",
       "      <td>20170617.0</td>\n",
       "      <td>2018-05-05</td>\n",
       "      <td>2018-05-01</td>\n",
       "    </tr>\n",
       "    <tr>\n",
       "      <th>3</th>\n",
       "      <td>20130516.0</td>\n",
       "      <td>2018-05-05</td>\n",
       "      <td>2018-05-03</td>\n",
       "    </tr>\n",
       "    <tr>\n",
       "      <th>4</th>\n",
       "      <td>20170312.0</td>\n",
       "      <td>2018-04-15</td>\n",
       "      <td>2018-01-07</td>\n",
       "    </tr>\n",
       "  </tbody>\n",
       "</table>\n",
       "</div>"
      ],
      "text/plain": [
       "   first_transaction_time latest_query_time loans_latest_time\n",
       "0              20130817.0        2018-04-25        2018-04-19\n",
       "1              20160402.0        2018-05-03        2018-05-05\n",
       "2              20170617.0        2018-05-05        2018-05-01\n",
       "3              20130516.0        2018-05-05        2018-05-03\n",
       "4              20170312.0        2018-04-15        2018-01-07"
      ]
     },
     "execution_count": 10,
     "metadata": {},
     "output_type": "execute_result"
    }
   ],
   "source": [
    "X_date.head()"
   ]
  },
  {
   "cell_type": "markdown",
   "metadata": {},
   "source": [
    "1）浮点型日期转换成字符串型"
   ]
  },
  {
   "cell_type": "code",
   "execution_count": 11,
   "metadata": {
    "collapsed": true
   },
   "outputs": [],
   "source": [
    "# 首先填充缺失值\n",
    "X_date['first_transaction_time'].fillna(X_date['first_transaction_time'].median(), inplace = True)\n",
    "# 转成字符串型日期\n",
    "X_date['first_transaction_time'] = X_date['first_transaction_time'].apply(lambda x:str(x)[:4] + '-' + str(x)[4:6] + '-' + str(x)[6:8])"
   ]
  },
  {
   "cell_type": "markdown",
   "metadata": {},
   "source": [
    "2） 提取特征：年份、月份、星期几"
   ]
  },
  {
   "cell_type": "code",
   "execution_count": 12,
   "metadata": {
    "collapsed": true
   },
   "outputs": [],
   "source": [
    "X_date['first_transaction_time_year'] = pd.to_datetime(X_date['first_transaction_time']).dt.year\n",
    "X_date['first_transaction_time_month'] = pd.to_datetime(X_date['first_transaction_time']).dt.month\n",
    "X_date['first_transaction_time_weekday'] = pd.to_datetime(X_date['first_transaction_time']).dt.weekday\n",
    "\n",
    "X_date['latest_query_time_year'] = pd.to_datetime(X_date['latest_query_time']).dt.year\n",
    "X_date['latest_query_time_month'] = pd.to_datetime(X_date['latest_query_time']).dt.month\n",
    "X_date['latest_query_time_weekday'] = pd.to_datetime(X_date['latest_query_time']).dt.weekday\n",
    "\n",
    "X_date['loans_latest_time_year'] = pd.to_datetime(X_date['loans_latest_time']).dt.year\n",
    "X_date['loans_latest_time_month'] = pd.to_datetime(X_date['loans_latest_time']).dt.month\n",
    "X_date['loans_latest_time_weekday'] = pd.to_datetime(X_date['loans_latest_time']).dt.weekday"
   ]
  },
  {
   "cell_type": "code",
   "execution_count": 13,
   "metadata": {
    "collapsed": true
   },
   "outputs": [],
   "source": [
    "# 填充缺失值\n",
    "X_date['latest_query_time_year'].fillna(X_date['latest_query_time_year'].median(), inplace = True)\n",
    "X_date['latest_query_time_month'].fillna(X_date['latest_query_time_month'].median(), inplace = True)\n",
    "X_date['latest_query_time_weekday'].fillna(X_date['latest_query_time_weekday'].median(), inplace = True)\n",
    "\n",
    "X_date['loans_latest_time_year'].fillna(X_date['loans_latest_time_year'].median(), inplace = True)\n",
    "X_date['loans_latest_time_month'].fillna(X_date['loans_latest_time_month'].median(), inplace = True)\n",
    "X_date['loans_latest_time_weekday'].fillna(X_date['loans_latest_time_weekday'].median(), inplace = True)"
   ]
  },
  {
   "cell_type": "code",
   "execution_count": 14,
   "metadata": {
    "collapsed": true
   },
   "outputs": [],
   "source": [
    "X_date.drop(dateFeatures, axis = 1, inplace=True)"
   ]
  },
  {
   "cell_type": "markdown",
   "metadata": {},
   "source": [
    "## 数据处理 - 类别特征 X_cate\n",
    "\n",
    "> 1）字符型类别特征编码\n",
    "\n",
    "> 2）缺失值填充\n",
    "\n",
    "> 3）类别特征Label与One-Hot编码\n",
    "\n",
    "**类别特征缺失值填充常用方法**：分箱处理（单独填充为一个类别）、众数填充"
   ]
  },
  {
   "cell_type": "markdown",
   "metadata": {},
   "source": [
    "观察取值和属性名称, 挑选类别特征"
   ]
  },
  {
   "cell_type": "code",
   "execution_count": 15,
   "metadata": {},
   "outputs": [
    {
     "name": "stdout",
     "output_type": "stream",
     "text": [
      "regional_mobility 6 [  3.   4.   1.   2.   5.  nan]\n",
      "student_feature 3 [ nan   1.   2.]\n",
      "is_high_user 2 [0 1]\n",
      "avg_consume_less_12_valid_month 13 [  7.   5.   6.   8.   9.   3.   4.  11.  10.   0.   2.   1.  nan]\n",
      "top_trans_count_last_1_month 9 [ 0.15  0.05  0.65  1.    0.1   0.3   0.4   0.2    nan]\n",
      "reg_preference_for_trad 6 ['一线城市' '三线城市' '境外' '二线城市' '其他城市' nan]\n",
      "railway_consume_count_last_12_month 7 [  0.   1.   2.   4.  nan   3.  30.]\n",
      "jewelry_consume_count_last_6_month 8 [  0.   1.  nan   2.   6.   3.   4.   5.]\n"
     ]
    }
   ],
   "source": [
    "for col in X:\n",
    "    cnt = len(X[col].unique())\n",
    "    if cnt < 15:\n",
    "        print(col, cnt, X[col].unique())"
   ]
  },
  {
   "cell_type": "code",
   "execution_count": 16,
   "metadata": {
    "collapsed": true
   },
   "outputs": [],
   "source": [
    "categoryFeatures = ['regional_mobility', 'student_feature', 'is_high_user', 'avg_consume_less_12_valid_month', 'reg_preference_for_trad']\n",
    "X_cate = X[categoryFeatures]"
   ]
  },
  {
   "cell_type": "markdown",
   "metadata": {},
   "source": [
    "1）字符型类别特征编码"
   ]
  },
  {
   "cell_type": "code",
   "execution_count": 17,
   "metadata": {
    "collapsed": true
   },
   "outputs": [],
   "source": [
    "dic = {}\n",
    "for i, val in enumerate(list(X_cate['reg_preference_for_trad'].unique())):\n",
    "    dic[val] = i\n",
    "\n",
    "X_cate['reg_preference_for_trad'] = X_cate['reg_preference_for_trad'].map(dic)"
   ]
  },
  {
   "cell_type": "code",
   "execution_count": 18,
   "metadata": {},
   "outputs": [
    {
     "data": {
      "text/html": [
       "<div>\n",
       "<style>\n",
       "    .dataframe thead tr:only-child th {\n",
       "        text-align: right;\n",
       "    }\n",
       "\n",
       "    .dataframe thead th {\n",
       "        text-align: left;\n",
       "    }\n",
       "\n",
       "    .dataframe tbody tr th {\n",
       "        vertical-align: top;\n",
       "    }\n",
       "</style>\n",
       "<table border=\"1\" class=\"dataframe\">\n",
       "  <thead>\n",
       "    <tr style=\"text-align: right;\">\n",
       "      <th></th>\n",
       "      <th>count</th>\n",
       "      <th>mean</th>\n",
       "      <th>std</th>\n",
       "      <th>min</th>\n",
       "      <th>25%</th>\n",
       "      <th>50%</th>\n",
       "      <th>75%</th>\n",
       "      <th>max</th>\n",
       "      <th>missing_pct</th>\n",
       "    </tr>\n",
       "  </thead>\n",
       "  <tbody>\n",
       "    <tr>\n",
       "      <th>regional_mobility</th>\n",
       "      <td>4752.0</td>\n",
       "      <td>2.678662</td>\n",
       "      <td>0.890360</td>\n",
       "      <td>1.0</td>\n",
       "      <td>2.0</td>\n",
       "      <td>3.0</td>\n",
       "      <td>3.0</td>\n",
       "      <td>5.0</td>\n",
       "      <td>0.000421</td>\n",
       "    </tr>\n",
       "    <tr>\n",
       "      <th>student_feature</th>\n",
       "      <td>1756.0</td>\n",
       "      <td>1.001139</td>\n",
       "      <td>0.033739</td>\n",
       "      <td>1.0</td>\n",
       "      <td>1.0</td>\n",
       "      <td>1.0</td>\n",
       "      <td>1.0</td>\n",
       "      <td>2.0</td>\n",
       "      <td>0.630627</td>\n",
       "    </tr>\n",
       "    <tr>\n",
       "      <th>is_high_user</th>\n",
       "      <td>4754.0</td>\n",
       "      <td>0.011149</td>\n",
       "      <td>0.105007</td>\n",
       "      <td>0.0</td>\n",
       "      <td>0.0</td>\n",
       "      <td>0.0</td>\n",
       "      <td>0.0</td>\n",
       "      <td>1.0</td>\n",
       "      <td>0.000000</td>\n",
       "    </tr>\n",
       "    <tr>\n",
       "      <th>avg_consume_less_12_valid_month</th>\n",
       "      <td>4752.0</td>\n",
       "      <td>6.572601</td>\n",
       "      <td>1.390723</td>\n",
       "      <td>0.0</td>\n",
       "      <td>6.0</td>\n",
       "      <td>7.0</td>\n",
       "      <td>7.0</td>\n",
       "      <td>11.0</td>\n",
       "      <td>0.000421</td>\n",
       "    </tr>\n",
       "    <tr>\n",
       "      <th>reg_preference_for_trad</th>\n",
       "      <td>4754.0</td>\n",
       "      <td>0.375053</td>\n",
       "      <td>0.693858</td>\n",
       "      <td>0.0</td>\n",
       "      <td>0.0</td>\n",
       "      <td>0.0</td>\n",
       "      <td>1.0</td>\n",
       "      <td>5.0</td>\n",
       "      <td>0.000421</td>\n",
       "    </tr>\n",
       "  </tbody>\n",
       "</table>\n",
       "</div>"
      ],
      "text/plain": [
       "                                  count      mean       std  min  25%  50%  \\\n",
       "regional_mobility                4752.0  2.678662  0.890360  1.0  2.0  3.0   \n",
       "student_feature                  1756.0  1.001139  0.033739  1.0  1.0  1.0   \n",
       "is_high_user                     4754.0  0.011149  0.105007  0.0  0.0  0.0   \n",
       "avg_consume_less_12_valid_month  4752.0  6.572601  1.390723  0.0  6.0  7.0   \n",
       "reg_preference_for_trad          4754.0  0.375053  0.693858  0.0  0.0  0.0   \n",
       "\n",
       "                                 75%   max  missing_pct  \n",
       "regional_mobility                3.0   5.0     0.000421  \n",
       "student_feature                  1.0   2.0     0.630627  \n",
       "is_high_user                     0.0   1.0     0.000000  \n",
       "avg_consume_less_12_valid_month  7.0  11.0     0.000421  \n",
       "reg_preference_for_trad          1.0   5.0     0.000421  "
      ]
     },
     "execution_count": 18,
     "metadata": {},
     "output_type": "execute_result"
    }
   ],
   "source": [
    "X_cate.describe().T\\\n",
    "    .assign(missing_pct=data.apply(lambda x : (len(x)-x.count())/len(x)))"
   ]
  },
  {
   "cell_type": "markdown",
   "metadata": {
    "collapsed": true
   },
   "source": [
    "2）缺失值填充：单独填充为一个类别/众数填充"
   ]
  },
  {
   "cell_type": "markdown",
   "metadata": {
    "collapsed": true
   },
   "source": [
    "student_feature 缺失占比一般以上, 将其缺失值**单独填充为1个类别**（用-1填充）。 "
   ]
  },
  {
   "cell_type": "code",
   "execution_count": 19,
   "metadata": {},
   "outputs": [
    {
     "data": {
      "text/plain": [
       "1.0    1754\n",
       "2.0       2\n",
       "Name: student_feature, dtype: int64"
      ]
     },
     "execution_count": 19,
     "metadata": {},
     "output_type": "execute_result"
    }
   ],
   "source": [
    "X_cate['student_feature'].value_counts()"
   ]
  },
  {
   "cell_type": "code",
   "execution_count": 20,
   "metadata": {
    "collapsed": true
   },
   "outputs": [],
   "source": [
    "X_cate['student_feature'].fillna(-1, inplace = True)"
   ]
  },
  {
   "cell_type": "code",
   "execution_count": 21,
   "metadata": {},
   "outputs": [
    {
     "data": {
      "text/plain": [
       "-1.0    2998\n",
       " 1.0    1754\n",
       " 2.0       2\n",
       "Name: student_feature, dtype: int64"
      ]
     },
     "execution_count": 21,
     "metadata": {},
     "output_type": "execute_result"
    }
   ],
   "source": [
    "X_cate['student_feature'].value_counts()"
   ]
  },
  {
   "cell_type": "markdown",
   "metadata": {},
   "source": [
    "其他特征缺失值数目较少, 考虑用众数填充"
   ]
  },
  {
   "cell_type": "code",
   "execution_count": 22,
   "metadata": {
    "collapsed": true
   },
   "outputs": [],
   "source": [
    "for col in X_cate.columns:\n",
    "    summ = X_cate[col].isnull().sum()\n",
    "    if summ:\n",
    "        X_cate[col].fillna(X_cate[col].mode()[0], inplace = True)"
   ]
  },
  {
   "cell_type": "markdown",
   "metadata": {},
   "source": [
    "3）类别特征Label与One-Hot编码\n",
    "\n",
    "|编码方法|介绍|优点|缺点|适用场景|\n",
    "|--|--|--|--|--|\n",
    "|label encoding|将类别变量中每一类别赋一数值，从而转换成数值型|略|赋值没有数值意义||\n",
    "|One-hot encoding|它的值只有0/1，不同的类型存储在垂直的空间|xx|当类别的数量很多时，特征空间会变得非常大|①除了树模型都要One-hot,因为label没有数值意义|"
   ]
  },
  {
   "cell_type": "markdown",
   "metadata": {},
   "source": [
    "## 数据处理 - 其他非数值型特征\n",
    "\n",
    "> 没有额外的待处理非数字型特征"
   ]
  },
  {
   "cell_type": "code",
   "execution_count": 23,
   "metadata": {
    "collapsed": true
   },
   "outputs": [],
   "source": [
    "X_str = X.select_dtypes(include=['O']).copy()    # 不是复制视图, 所以加copy()"
   ]
  },
  {
   "cell_type": "code",
   "execution_count": 24,
   "metadata": {},
   "outputs": [
    {
     "data": {
      "text/html": [
       "<div>\n",
       "<style>\n",
       "    .dataframe thead tr:only-child th {\n",
       "        text-align: right;\n",
       "    }\n",
       "\n",
       "    .dataframe thead th {\n",
       "        text-align: left;\n",
       "    }\n",
       "\n",
       "    .dataframe tbody tr th {\n",
       "        vertical-align: top;\n",
       "    }\n",
       "</style>\n",
       "<table border=\"1\" class=\"dataframe\">\n",
       "  <thead>\n",
       "    <tr style=\"text-align: right;\">\n",
       "      <th></th>\n",
       "      <th>reg_preference_for_trad</th>\n",
       "      <th>latest_query_time</th>\n",
       "      <th>loans_latest_time</th>\n",
       "    </tr>\n",
       "  </thead>\n",
       "  <tbody>\n",
       "    <tr>\n",
       "      <th>0</th>\n",
       "      <td>一线城市</td>\n",
       "      <td>2018-04-25</td>\n",
       "      <td>2018-04-19</td>\n",
       "    </tr>\n",
       "    <tr>\n",
       "      <th>1</th>\n",
       "      <td>一线城市</td>\n",
       "      <td>2018-05-03</td>\n",
       "      <td>2018-05-05</td>\n",
       "    </tr>\n",
       "    <tr>\n",
       "      <th>2</th>\n",
       "      <td>一线城市</td>\n",
       "      <td>2018-05-05</td>\n",
       "      <td>2018-05-01</td>\n",
       "    </tr>\n",
       "    <tr>\n",
       "      <th>3</th>\n",
       "      <td>三线城市</td>\n",
       "      <td>2018-05-05</td>\n",
       "      <td>2018-05-03</td>\n",
       "    </tr>\n",
       "    <tr>\n",
       "      <th>4</th>\n",
       "      <td>一线城市</td>\n",
       "      <td>2018-04-15</td>\n",
       "      <td>2018-01-07</td>\n",
       "    </tr>\n",
       "  </tbody>\n",
       "</table>\n",
       "</div>"
      ],
      "text/plain": [
       "  reg_preference_for_trad latest_query_time loans_latest_time\n",
       "0                    一线城市        2018-04-25        2018-04-19\n",
       "1                    一线城市        2018-05-03        2018-05-05\n",
       "2                    一线城市        2018-05-05        2018-05-01\n",
       "3                    三线城市        2018-05-05        2018-05-03\n",
       "4                    一线城市        2018-04-15        2018-01-07"
      ]
     },
     "execution_count": 24,
     "metadata": {},
     "output_type": "execute_result"
    }
   ],
   "source": [
    "X_str.head()"
   ]
  },
  {
   "cell_type": "markdown",
   "metadata": {},
   "source": [
    "## 数据处理 - 数值型特征 X_num\n",
    "\n",
    "> 1）缺失值处理\n",
    "\n",
    "> 2）去掉取值变化小的特征：统计各个列标准差，将标准差小于0.1的特征剔除\n",
    "\n",
    "**连续特征缺失值填充常用方法**：中位数填充，平均数一般不用的(均值受极端值影响太大)。"
   ]
  },
  {
   "cell_type": "code",
   "execution_count": 25,
   "metadata": {},
   "outputs": [
    {
     "data": {
      "text/plain": [
       "(4754, 80)"
      ]
     },
     "execution_count": 25,
     "metadata": {},
     "output_type": "execute_result"
    }
   ],
   "source": [
    "X_num = X.select_dtypes(exclude=['O']).copy()    # 不是复制视图, 所以加copy()\n",
    "X_num.shape"
   ]
  },
  {
   "cell_type": "code",
   "execution_count": 26,
   "metadata": {},
   "outputs": [
    {
     "name": "stdout",
     "output_type": "stream",
     "text": [
      "regional_mobility\n",
      "student_feature\n",
      "is_high_user\n",
      "first_transaction_time\n",
      "avg_consume_less_12_valid_month\n"
     ]
    },
    {
     "data": {
      "text/plain": [
       "(4754, 75)"
      ]
     },
     "execution_count": 26,
     "metadata": {},
     "output_type": "execute_result"
    }
   ],
   "source": [
    "for col in X_num.columns:\n",
    "    if col in dateFeatures + categoryFeatures:\n",
    "        print(col)\n",
    "        X_num.drop(col, axis = 1, inplace = True)\n",
    "X_num.shape"
   ]
  },
  {
   "cell_type": "code",
   "execution_count": 27,
   "metadata": {},
   "outputs": [
    {
     "data": {
      "text/html": [
       "<div>\n",
       "<style>\n",
       "    .dataframe thead tr:only-child th {\n",
       "        text-align: right;\n",
       "    }\n",
       "\n",
       "    .dataframe thead th {\n",
       "        text-align: left;\n",
       "    }\n",
       "\n",
       "    .dataframe tbody tr th {\n",
       "        vertical-align: top;\n",
       "    }\n",
       "</style>\n",
       "<table border=\"1\" class=\"dataframe\">\n",
       "  <thead>\n",
       "    <tr style=\"text-align: right;\">\n",
       "      <th></th>\n",
       "      <th>low_volume_percent</th>\n",
       "      <th>middle_volume_percent</th>\n",
       "      <th>take_amount_in_later_12_month_highest</th>\n",
       "      <th>trans_amount_increase_rate_lately</th>\n",
       "      <th>trans_activity_month</th>\n",
       "      <th>trans_activity_day</th>\n",
       "      <th>transd_mcc</th>\n",
       "      <th>trans_days_interval_filter</th>\n",
       "      <th>trans_days_interval</th>\n",
       "      <th>repayment_capability</th>\n",
       "      <th>...</th>\n",
       "      <th>loans_max_limit</th>\n",
       "      <th>loans_avg_limit</th>\n",
       "      <th>consfin_credit_limit</th>\n",
       "      <th>consfin_credibility</th>\n",
       "      <th>consfin_org_count_current</th>\n",
       "      <th>consfin_product_count</th>\n",
       "      <th>consfin_max_limit</th>\n",
       "      <th>consfin_avg_limit</th>\n",
       "      <th>latest_query_day</th>\n",
       "      <th>loans_latest_day</th>\n",
       "    </tr>\n",
       "  </thead>\n",
       "  <tbody>\n",
       "    <tr>\n",
       "      <th>count</th>\n",
       "      <td>4752.000000</td>\n",
       "      <td>4752.000000</td>\n",
       "      <td>4754.000000</td>\n",
       "      <td>4751.000000</td>\n",
       "      <td>4752.000000</td>\n",
       "      <td>4752.000000</td>\n",
       "      <td>4752.000000</td>\n",
       "      <td>4746.000000</td>\n",
       "      <td>4752.000000</td>\n",
       "      <td>4.754000e+03</td>\n",
       "      <td>...</td>\n",
       "      <td>4457.000000</td>\n",
       "      <td>4457.000000</td>\n",
       "      <td>4457.000000</td>\n",
       "      <td>4457.000000</td>\n",
       "      <td>4457.000000</td>\n",
       "      <td>4457.000000</td>\n",
       "      <td>4457.000000</td>\n",
       "      <td>4457.000000</td>\n",
       "      <td>4450.000000</td>\n",
       "      <td>4457.000000</td>\n",
       "    </tr>\n",
       "    <tr>\n",
       "      <th>mean</th>\n",
       "      <td>0.021806</td>\n",
       "      <td>0.901294</td>\n",
       "      <td>1940.197728</td>\n",
       "      <td>14.160674</td>\n",
       "      <td>0.804411</td>\n",
       "      <td>0.365425</td>\n",
       "      <td>17.502946</td>\n",
       "      <td>29.029920</td>\n",
       "      <td>21.751263</td>\n",
       "      <td>1.870201e+04</td>\n",
       "      <td>...</td>\n",
       "      <td>3390.038142</td>\n",
       "      <td>1820.357864</td>\n",
       "      <td>9187.009199</td>\n",
       "      <td>76.042630</td>\n",
       "      <td>4.732331</td>\n",
       "      <td>5.227507</td>\n",
       "      <td>16153.690823</td>\n",
       "      <td>8007.696881</td>\n",
       "      <td>24.112809</td>\n",
       "      <td>55.181512</td>\n",
       "    </tr>\n",
       "    <tr>\n",
       "      <th>std</th>\n",
       "      <td>0.041527</td>\n",
       "      <td>0.144856</td>\n",
       "      <td>3923.971494</td>\n",
       "      <td>694.180473</td>\n",
       "      <td>0.196920</td>\n",
       "      <td>0.170196</td>\n",
       "      <td>4.475616</td>\n",
       "      <td>22.722432</td>\n",
       "      <td>16.474916</td>\n",
       "      <td>5.221783e+04</td>\n",
       "      <td>...</td>\n",
       "      <td>1474.206546</td>\n",
       "      <td>583.418291</td>\n",
       "      <td>7371.257043</td>\n",
       "      <td>14.536819</td>\n",
       "      <td>2.974596</td>\n",
       "      <td>3.409292</td>\n",
       "      <td>14301.037628</td>\n",
       "      <td>5679.418585</td>\n",
       "      <td>37.725724</td>\n",
       "      <td>53.486408</td>\n",
       "    </tr>\n",
       "    <tr>\n",
       "      <th>min</th>\n",
       "      <td>0.000000</td>\n",
       "      <td>0.000000</td>\n",
       "      <td>0.000000</td>\n",
       "      <td>0.000000</td>\n",
       "      <td>0.120000</td>\n",
       "      <td>0.033000</td>\n",
       "      <td>2.000000</td>\n",
       "      <td>0.000000</td>\n",
       "      <td>4.000000</td>\n",
       "      <td>0.000000e+00</td>\n",
       "      <td>...</td>\n",
       "      <td>0.000000</td>\n",
       "      <td>0.000000</td>\n",
       "      <td>0.000000</td>\n",
       "      <td>0.000000</td>\n",
       "      <td>0.000000</td>\n",
       "      <td>0.000000</td>\n",
       "      <td>0.000000</td>\n",
       "      <td>0.000000</td>\n",
       "      <td>-2.000000</td>\n",
       "      <td>-2.000000</td>\n",
       "    </tr>\n",
       "    <tr>\n",
       "      <th>max</th>\n",
       "      <td>1.000000</td>\n",
       "      <td>1.000000</td>\n",
       "      <td>68000.000000</td>\n",
       "      <td>47596.740000</td>\n",
       "      <td>1.000000</td>\n",
       "      <td>0.941000</td>\n",
       "      <td>42.000000</td>\n",
       "      <td>285.000000</td>\n",
       "      <td>234.000000</td>\n",
       "      <td>2.459390e+06</td>\n",
       "      <td>...</td>\n",
       "      <td>10000.000000</td>\n",
       "      <td>6900.000000</td>\n",
       "      <td>87100.000000</td>\n",
       "      <td>87.000000</td>\n",
       "      <td>18.000000</td>\n",
       "      <td>20.000000</td>\n",
       "      <td>266400.000000</td>\n",
       "      <td>82800.000000</td>\n",
       "      <td>360.000000</td>\n",
       "      <td>323.000000</td>\n",
       "    </tr>\n",
       "    <tr>\n",
       "      <th>missing_pct</th>\n",
       "      <td>0.000421</td>\n",
       "      <td>0.000421</td>\n",
       "      <td>0.000000</td>\n",
       "      <td>0.000631</td>\n",
       "      <td>0.000421</td>\n",
       "      <td>0.000421</td>\n",
       "      <td>0.000421</td>\n",
       "      <td>0.001683</td>\n",
       "      <td>0.000421</td>\n",
       "      <td>0.000000e+00</td>\n",
       "      <td>...</td>\n",
       "      <td>0.062474</td>\n",
       "      <td>0.062474</td>\n",
       "      <td>0.062474</td>\n",
       "      <td>0.062474</td>\n",
       "      <td>0.062474</td>\n",
       "      <td>0.062474</td>\n",
       "      <td>0.062474</td>\n",
       "      <td>0.062474</td>\n",
       "      <td>0.063946</td>\n",
       "      <td>0.062474</td>\n",
       "    </tr>\n",
       "  </tbody>\n",
       "</table>\n",
       "<p>6 rows × 75 columns</p>\n",
       "</div>"
      ],
      "text/plain": [
       "             low_volume_percent  middle_volume_percent  \\\n",
       "count               4752.000000            4752.000000   \n",
       "mean                   0.021806               0.901294   \n",
       "std                    0.041527               0.144856   \n",
       "min                    0.000000               0.000000   \n",
       "max                    1.000000               1.000000   \n",
       "missing_pct            0.000421               0.000421   \n",
       "\n",
       "             take_amount_in_later_12_month_highest  \\\n",
       "count                                  4754.000000   \n",
       "mean                                   1940.197728   \n",
       "std                                    3923.971494   \n",
       "min                                       0.000000   \n",
       "max                                   68000.000000   \n",
       "missing_pct                               0.000000   \n",
       "\n",
       "             trans_amount_increase_rate_lately  trans_activity_month  \\\n",
       "count                              4751.000000           4752.000000   \n",
       "mean                                 14.160674              0.804411   \n",
       "std                                 694.180473              0.196920   \n",
       "min                                   0.000000              0.120000   \n",
       "max                               47596.740000              1.000000   \n",
       "missing_pct                           0.000631              0.000421   \n",
       "\n",
       "             trans_activity_day   transd_mcc  trans_days_interval_filter  \\\n",
       "count               4752.000000  4752.000000                 4746.000000   \n",
       "mean                   0.365425    17.502946                   29.029920   \n",
       "std                    0.170196     4.475616                   22.722432   \n",
       "min                    0.033000     2.000000                    0.000000   \n",
       "max                    0.941000    42.000000                  285.000000   \n",
       "missing_pct            0.000421     0.000421                    0.001683   \n",
       "\n",
       "             trans_days_interval  repayment_capability        ...         \\\n",
       "count                4752.000000          4.754000e+03        ...          \n",
       "mean                   21.751263          1.870201e+04        ...          \n",
       "std                    16.474916          5.221783e+04        ...          \n",
       "min                     4.000000          0.000000e+00        ...          \n",
       "max                   234.000000          2.459390e+06        ...          \n",
       "missing_pct             0.000421          0.000000e+00        ...          \n",
       "\n",
       "             loans_max_limit  loans_avg_limit  consfin_credit_limit  \\\n",
       "count            4457.000000      4457.000000           4457.000000   \n",
       "mean             3390.038142      1820.357864           9187.009199   \n",
       "std              1474.206546       583.418291           7371.257043   \n",
       "min                 0.000000         0.000000              0.000000   \n",
       "max             10000.000000      6900.000000          87100.000000   \n",
       "missing_pct         0.062474         0.062474              0.062474   \n",
       "\n",
       "             consfin_credibility  consfin_org_count_current  \\\n",
       "count                4457.000000                4457.000000   \n",
       "mean                   76.042630                   4.732331   \n",
       "std                    14.536819                   2.974596   \n",
       "min                     0.000000                   0.000000   \n",
       "max                    87.000000                  18.000000   \n",
       "missing_pct             0.062474                   0.062474   \n",
       "\n",
       "             consfin_product_count  consfin_max_limit  consfin_avg_limit  \\\n",
       "count                  4457.000000        4457.000000        4457.000000   \n",
       "mean                      5.227507       16153.690823        8007.696881   \n",
       "std                       3.409292       14301.037628        5679.418585   \n",
       "min                       0.000000           0.000000           0.000000   \n",
       "max                      20.000000      266400.000000       82800.000000   \n",
       "missing_pct               0.062474           0.062474           0.062474   \n",
       "\n",
       "             latest_query_day  loans_latest_day  \n",
       "count             4450.000000       4457.000000  \n",
       "mean                24.112809         55.181512  \n",
       "std                 37.725724         53.486408  \n",
       "min                 -2.000000         -2.000000  \n",
       "max                360.000000        323.000000  \n",
       "missing_pct          0.063946          0.062474  \n",
       "\n",
       "[6 rows x 75 columns]"
      ]
     },
     "execution_count": 27,
     "metadata": {},
     "output_type": "execute_result"
    }
   ],
   "source": [
    "(X_num.describe().T\n",
    " .drop(['25%','50%','75%'],axis=1)\n",
    " .assign(missing_pct=data.apply(lambda x: (len(x)-x.count())/len(x)))).T"
   ]
  },
  {
   "cell_type": "markdown",
   "metadata": {},
   "source": [
    "1）缺失值处理\n",
    "\n",
    "主要填充方法采用众数、中位数和模型填充等，**平均数一般不用的(均值受极端值影响太大)**。"
   ]
  },
  {
   "cell_type": "code",
   "execution_count": 28,
   "metadata": {},
   "outputs": [
    {
     "name": "stdout",
     "output_type": "stream",
     "text": [
      "8.9609 % cross_consume_count_last_1_month\n",
      "6.3946 % apply_score\n",
      "6.3946 % apply_credibility\n",
      "6.3946 % query_org_count\n",
      "6.3946 % query_finance_count\n",
      "6.3946 % query_cash_count\n",
      "6.3946 % query_sum_count\n",
      "6.3946 % latest_one_month_apply\n",
      "6.3946 % latest_three_month_apply\n",
      "6.3946 % latest_six_month_apply\n"
     ]
    }
   ],
   "source": [
    "# 统计各列缺失值的比例\n",
    "col_missing = {}\n",
    "for col in X_num.columns:\n",
    "    summ = X_num[col].isnull().sum()\n",
    "    if summ:\n",
    "        col_missing[col] = float('%.4f'%(summ*100/len(data)))\n",
    "    \n",
    "col_missing = sorted(col_missing.items(), key = lambda d:-d[1])\n",
    "for col, rate in col_missing[:10]:\n",
    "    print(rate, '%', col)"
   ]
  },
  {
   "cell_type": "markdown",
   "metadata": {},
   "source": [
    "缺失特征用**中位数**填充。"
   ]
  },
  {
   "cell_type": "code",
   "execution_count": 29,
   "metadata": {
    "collapsed": true
   },
   "outputs": [],
   "source": [
    "for col in X_num.columns:\n",
    "    summ = X_num[col].isnull().sum()\n",
    "    if summ:\n",
    "        X_num[col].fillna(X_num[col].median(), inplace = True)"
   ]
  },
  {
   "cell_type": "markdown",
   "metadata": {},
   "source": [
    "2）去掉取值变化小的特征"
   ]
  },
  {
   "cell_type": "code",
   "execution_count": 30,
   "metadata": {},
   "outputs": [
    {
     "name": "stdout",
     "output_type": "stream",
     "text": [
      "low_volume_percent 0.04151908997545957\n",
      "avg_price_top_last_12_valid_month 0.0993155786043876\n"
     ]
    }
   ],
   "source": [
    "for col in X_num.columns:\n",
    "    rate = X_num[col].std()\n",
    "    if rate < 0.1:\n",
    "        print(col, rate)\n",
    "        X_num.drop(col, axis = 1, inplace = True)"
   ]
  },
  {
   "cell_type": "markdown",
   "metadata": {},
   "source": [
    "3） 归一化\n",
    "\n",
    "> 归一化, 可以加快梯度下降求最优解的速度, 也有利于提高精度"
   ]
  },
  {
   "cell_type": "code",
   "execution_count": 31,
   "metadata": {
    "collapsed": true
   },
   "outputs": [],
   "source": [
    "# 最大最小归一化\n",
    "# X_num = X_num.apply(lambda x: (x - np.min(x)) / (np.max(x) - np.min(x)))"
   ]
  },
  {
   "cell_type": "markdown",
   "metadata": {},
   "source": [
    "## 特征拼接与存储"
   ]
  },
  {
   "cell_type": "code",
   "execution_count": 32,
   "metadata": {
    "collapsed": true
   },
   "outputs": [],
   "source": [
    "X = pd.concat([X_cate, X_date, X_num], axis=1)"
   ]
  },
  {
   "cell_type": "code",
   "execution_count": 33,
   "metadata": {},
   "outputs": [
    {
     "data": {
      "text/plain": [
       "(4754, 87)"
      ]
     },
     "execution_count": 33,
     "metadata": {},
     "output_type": "execute_result"
    }
   ],
   "source": [
    "X.shape"
   ]
  },
  {
   "cell_type": "code",
   "execution_count": 34,
   "metadata": {
    "collapsed": true
   },
   "outputs": [],
   "source": [
    "import pickle\n",
    "with open('feature.pkl', 'wb') as f:\n",
    "    pickle.dump(X, f)"
   ]
  },
  {
   "cell_type": "markdown",
   "metadata": {},
   "source": [
    "# 遇到的问题"
   ]
  },
  {
   "cell_type": "markdown",
   "metadata": {},
   "source": [
    "> 特征数目和行数相同, 肯定和预测无关吗？ 如果是属于类似连续型特征呢？"
   ]
  },
  {
   "cell_type": "markdown",
   "metadata": {},
   "source": [
    "# Reference"
   ]
  },
  {
   "cell_type": "markdown",
   "metadata": {},
   "source": [
    "1）[特征工程处理](http://cking0821.club/2018/05/31/%E7%89%B9%E5%BE%81%E5%B7%A5%E7%A8%8B%E5%A4%84%E7%90%86/)\n",
    "\n",
    "2）[数据分析工具之Python大法（一）](https://zhuanlan.zhihu.com/p/21401793)\n",
    "\n",
    "3）[机器学习-Label Encoding与One Hot的区别-20180513](https://zhuanlan.zhihu.com/p/36804348)"
   ]
  }
 ],
 "metadata": {
  "kernelspec": {
   "display_name": "Python 3",
   "language": "python",
   "name": "python3"
  },
  "language_info": {
   "codemirror_mode": {
    "name": "ipython",
    "version": 3
   },
   "file_extension": ".py",
   "mimetype": "text/x-python",
   "name": "python",
   "nbconvert_exporter": "python",
   "pygments_lexer": "ipython3",
   "version": "3.6.4"
  },
  "toc": {
   "nav_menu": {},
   "number_sections": true,
   "sideBar": true,
   "skip_h1_title": false,
   "title_cell": "Table of Contents",
   "title_sidebar": "Contents",
   "toc_cell": true,
   "toc_position": {},
   "toc_section_display": true,
   "toc_window_display": false
  }
 },
 "nbformat": 4,
 "nbformat_minor": 2
}
