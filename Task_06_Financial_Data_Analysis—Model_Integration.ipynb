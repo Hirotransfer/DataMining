{
 "cells": [
  {
   "cell_type": "markdown",
   "metadata": {},
   "source": [
    "### 一、模型融合\n",
    "\n",
    "- **模型融合（Model Integration）**\n",
    "\n",
    "> **对Task 05 调优后的模型, 进行模型融合。例如, 用目前评分最高的模型作为基准模型, 和其他模型进行Stacking 模型融合, 得到最终模型和评分**\n",
    "\n",
    "> **模型融合，通常可以在各种不同的机器学习任务中使结果获得提升，即综合考虑不同模型的情况，并将它们的结果融合到一起**"
   ]
  },
  {
   "cell_type": "markdown",
   "metadata": {},
   "source": [
    "> ### 多数表决融合: 模型融合能提高准确率以及对低相关的结果进行融合可以获得更好结果"
   ]
  },
  {
   "cell_type": "markdown",
   "metadata": {},
   "source": [
    "> **多数表决的融合方式默认了所有模型的重要度是一样的，但通常情况下我们会更重视表现较好的模型而需要赋予更大的权值**"
   ]
  },
  {
   "cell_type": "markdown",
   "metadata": {},
   "source": [
    "> ### 加权表决融合: 在加权表决的情况下，表现较差的模型只能通过与其他模型获得一样的结果来增强自己的说服力"
   ]
  },
  {
   "cell_type": "markdown",
   "metadata": {},
   "source": [
    "> ### 对结果取平均"
   ]
  },
  {
   "cell_type": "markdown",
   "metadata": {},
   "source": [
    "> **对结果取平均在很多机器学习问题上以及不同的评估准则上都获得很不错的结果**\n",
    "\n",
    "> **取均值的做法常常可以减少过拟合现象**\n",
    "\n",
    "> **在机器学习的应用上，过拟合现象是很普遍的，根本问题是训练数据量不足以支撑复杂的模型，导致模型学习到数据集上的噪音，这样产生的问题使得模型很难泛化，因为模型“考虑”的过分片面**\n",
    "\n",
    "> **如果对结果取平均，可以在一定程度上减轻过拟合现象**\n",
    "\n",
    "> ### 机器学习的目的并不是让模型**记住**训练数据，而是对**未知数据**有更好的**推广**"
   ]
  },
  {
   "cell_type": "markdown",
   "metadata": {},
   "source": [
    "> ### Stacking"
   ]
  },
  {
   "cell_type": "markdown",
   "metadata": {},
   "source": [
    "> **Stacking的基本思想是用一些 基分类器 进行分类，然后使用另一个分类器对结果进行整合**"
   ]
  },
  {
   "cell_type": "markdown",
   "metadata": {},
   "source": [
    "> ### Blending"
   ]
  },
  {
   "cell_type": "markdown",
   "metadata": {},
   "source": [
    "> **Blending 与 Stacking 的主要区别在于训练集不是通过 K-Fold 的 交叉验证策略 来获得 预测值 从而生成 模型的特征 ，而是建立一个 Holdout集 **\n",
    "\n",
    "> **即把 Stacking 流程中的 K-Fold 交叉验证 改成 HoldOut 交叉验证**\n",
    "\n",
    "> **Blending优点在于：**\n",
    "\n",
    "> 1.比stacking简单（因为不用进行k次的交叉验证来获得stacker feature）\n",
    "\n",
    "> 2.避开了一个信息泄露问题：generlizers和stacker使用了不一样的数据集\n",
    "\n",
    ">3.在团队建模过程中，不需要给队友分享自己的随机种子\n",
    "\n",
    "> **Blending 缺点在于：**\n",
    "\n",
    "> 1.使用了很少的数据\n",
    "\n",
    "> 2.blender可能会过拟合\n",
    "\n",
    "> 3.Stacking使用多次的交叉验证会比较稳健对于实践中的结果而言，Stacking和Blending的效果是差不多的，所以使用哪种方法都没什么所谓，完全取决于个人爱好"
   ]
  },
  {
   "cell_type": "markdown",
   "metadata": {},
   "source": [
    "### 二、任务说明：\n",
    "\n",
    "- 利用 **金融数据** 来预测贷款用户是否会逾期\n",
    "- 其中，**“status”** 是结果标签：**0** 表示未逾期，**1** 表示逾期"
   ]
  },
  {
   "cell_type": "markdown",
   "metadata": {},
   "source": [
    "### 三、任务要求：\n",
    "\n",
    "> **模型融合（Model Integration）**\n",
    "\n",
    "> **模型融合，模型融合方式任意，并结合 Task 05 给出最优结果**\n",
    "\n",
    "> **Stacking 或 Blending 融合，用目前评分最高的模型作为基准模型，和其他模型进行 Stacking 融合，得到最终模型及评分结果**\n"
   ]
  },
  {
   "cell_type": "markdown",
   "metadata": {},
   "source": [
    "### 四、任务实现（模型融合）：（2 Days）"
   ]
  },
  {
   "cell_type": "markdown",
   "metadata": {},
   "source": [
    "### 6.1 数据加载"
   ]
  },
  {
   "cell_type": "code",
   "execution_count": 40,
   "metadata": {},
   "outputs": [],
   "source": [
    "import pandas as pd\n",
    "import warnings\n",
    "warnings.filterwarnings(\"ignore\")"
   ]
  },
  {
   "cell_type": "code",
   "execution_count": 41,
   "metadata": {},
   "outputs": [
    {
     "name": "stdout",
     "output_type": "stream",
     "text": [
      "(4754, 90)\n"
     ]
    },
    {
     "data": {
      "text/html": [
       "<div>\n",
       "<style scoped>\n",
       "    .dataframe tbody tr th:only-of-type {\n",
       "        vertical-align: middle;\n",
       "    }\n",
       "\n",
       "    .dataframe tbody tr th {\n",
       "        vertical-align: top;\n",
       "    }\n",
       "\n",
       "    .dataframe thead th {\n",
       "        text-align: right;\n",
       "    }\n",
       "</style>\n",
       "<table border=\"1\" class=\"dataframe\">\n",
       "  <thead>\n",
       "    <tr style=\"text-align: right;\">\n",
       "      <th></th>\n",
       "      <th>Unnamed: 0</th>\n",
       "      <th>custid</th>\n",
       "      <th>trade_no</th>\n",
       "      <th>bank_card_no</th>\n",
       "      <th>low_volume_percent</th>\n",
       "      <th>middle_volume_percent</th>\n",
       "      <th>take_amount_in_later_12_month_highest</th>\n",
       "      <th>trans_amount_increase_rate_lately</th>\n",
       "      <th>trans_activity_month</th>\n",
       "      <th>trans_activity_day</th>\n",
       "      <th>...</th>\n",
       "      <th>loans_max_limit</th>\n",
       "      <th>loans_avg_limit</th>\n",
       "      <th>consfin_credit_limit</th>\n",
       "      <th>consfin_credibility</th>\n",
       "      <th>consfin_org_count_current</th>\n",
       "      <th>consfin_product_count</th>\n",
       "      <th>consfin_max_limit</th>\n",
       "      <th>consfin_avg_limit</th>\n",
       "      <th>latest_query_day</th>\n",
       "      <th>loans_latest_day</th>\n",
       "    </tr>\n",
       "  </thead>\n",
       "  <tbody>\n",
       "    <tr>\n",
       "      <th>0</th>\n",
       "      <td>5</td>\n",
       "      <td>2791858</td>\n",
       "      <td>20180507115231274000000023057383</td>\n",
       "      <td>卡号1</td>\n",
       "      <td>0.01</td>\n",
       "      <td>0.99</td>\n",
       "      <td>0</td>\n",
       "      <td>0.90</td>\n",
       "      <td>0.55</td>\n",
       "      <td>0.313</td>\n",
       "      <td>...</td>\n",
       "      <td>2900.0</td>\n",
       "      <td>1688.0</td>\n",
       "      <td>1200.0</td>\n",
       "      <td>75.0</td>\n",
       "      <td>1.0</td>\n",
       "      <td>2.0</td>\n",
       "      <td>1200.0</td>\n",
       "      <td>1200.0</td>\n",
       "      <td>12.0</td>\n",
       "      <td>18.0</td>\n",
       "    </tr>\n",
       "    <tr>\n",
       "      <th>1</th>\n",
       "      <td>10</td>\n",
       "      <td>534047</td>\n",
       "      <td>20180507121002192000000023073000</td>\n",
       "      <td>卡号1</td>\n",
       "      <td>0.02</td>\n",
       "      <td>0.94</td>\n",
       "      <td>2000</td>\n",
       "      <td>1.28</td>\n",
       "      <td>1.00</td>\n",
       "      <td>0.458</td>\n",
       "      <td>...</td>\n",
       "      <td>3500.0</td>\n",
       "      <td>1758.0</td>\n",
       "      <td>15100.0</td>\n",
       "      <td>80.0</td>\n",
       "      <td>5.0</td>\n",
       "      <td>6.0</td>\n",
       "      <td>22800.0</td>\n",
       "      <td>9360.0</td>\n",
       "      <td>4.0</td>\n",
       "      <td>2.0</td>\n",
       "    </tr>\n",
       "    <tr>\n",
       "      <th>2</th>\n",
       "      <td>12</td>\n",
       "      <td>2849787</td>\n",
       "      <td>20180507125159718000000023114911</td>\n",
       "      <td>卡号1</td>\n",
       "      <td>0.04</td>\n",
       "      <td>0.96</td>\n",
       "      <td>0</td>\n",
       "      <td>1.00</td>\n",
       "      <td>1.00</td>\n",
       "      <td>0.114</td>\n",
       "      <td>...</td>\n",
       "      <td>1600.0</td>\n",
       "      <td>1250.0</td>\n",
       "      <td>4200.0</td>\n",
       "      <td>87.0</td>\n",
       "      <td>1.0</td>\n",
       "      <td>1.0</td>\n",
       "      <td>4200.0</td>\n",
       "      <td>4200.0</td>\n",
       "      <td>2.0</td>\n",
       "      <td>6.0</td>\n",
       "    </tr>\n",
       "    <tr>\n",
       "      <th>3</th>\n",
       "      <td>13</td>\n",
       "      <td>1809708</td>\n",
       "      <td>20180507121358683000000388283484</td>\n",
       "      <td>卡号1</td>\n",
       "      <td>0.00</td>\n",
       "      <td>0.96</td>\n",
       "      <td>2000</td>\n",
       "      <td>0.13</td>\n",
       "      <td>0.57</td>\n",
       "      <td>0.777</td>\n",
       "      <td>...</td>\n",
       "      <td>3200.0</td>\n",
       "      <td>1541.0</td>\n",
       "      <td>16300.0</td>\n",
       "      <td>80.0</td>\n",
       "      <td>5.0</td>\n",
       "      <td>5.0</td>\n",
       "      <td>30000.0</td>\n",
       "      <td>12180.0</td>\n",
       "      <td>2.0</td>\n",
       "      <td>4.0</td>\n",
       "    </tr>\n",
       "    <tr>\n",
       "      <th>4</th>\n",
       "      <td>14</td>\n",
       "      <td>2499829</td>\n",
       "      <td>20180507115448545000000388205844</td>\n",
       "      <td>卡号1</td>\n",
       "      <td>0.01</td>\n",
       "      <td>0.99</td>\n",
       "      <td>0</td>\n",
       "      <td>0.46</td>\n",
       "      <td>1.00</td>\n",
       "      <td>0.175</td>\n",
       "      <td>...</td>\n",
       "      <td>2300.0</td>\n",
       "      <td>1630.0</td>\n",
       "      <td>8300.0</td>\n",
       "      <td>79.0</td>\n",
       "      <td>2.0</td>\n",
       "      <td>2.0</td>\n",
       "      <td>8400.0</td>\n",
       "      <td>8250.0</td>\n",
       "      <td>22.0</td>\n",
       "      <td>120.0</td>\n",
       "    </tr>\n",
       "  </tbody>\n",
       "</table>\n",
       "<p>5 rows × 90 columns</p>\n",
       "</div>"
      ],
      "text/plain": [
       "   Unnamed: 0   custid                          trade_no bank_card_no  \\\n",
       "0           5  2791858  20180507115231274000000023057383          卡号1   \n",
       "1          10   534047  20180507121002192000000023073000          卡号1   \n",
       "2          12  2849787  20180507125159718000000023114911          卡号1   \n",
       "3          13  1809708  20180507121358683000000388283484          卡号1   \n",
       "4          14  2499829  20180507115448545000000388205844          卡号1   \n",
       "\n",
       "   low_volume_percent  middle_volume_percent  \\\n",
       "0                0.01                   0.99   \n",
       "1                0.02                   0.94   \n",
       "2                0.04                   0.96   \n",
       "3                0.00                   0.96   \n",
       "4                0.01                   0.99   \n",
       "\n",
       "   take_amount_in_later_12_month_highest  trans_amount_increase_rate_lately  \\\n",
       "0                                      0                               0.90   \n",
       "1                                   2000                               1.28   \n",
       "2                                      0                               1.00   \n",
       "3                                   2000                               0.13   \n",
       "4                                      0                               0.46   \n",
       "\n",
       "   trans_activity_month  trans_activity_day        ...         \\\n",
       "0                  0.55               0.313        ...          \n",
       "1                  1.00               0.458        ...          \n",
       "2                  1.00               0.114        ...          \n",
       "3                  0.57               0.777        ...          \n",
       "4                  1.00               0.175        ...          \n",
       "\n",
       "   loans_max_limit  loans_avg_limit  consfin_credit_limit  \\\n",
       "0           2900.0           1688.0                1200.0   \n",
       "1           3500.0           1758.0               15100.0   \n",
       "2           1600.0           1250.0                4200.0   \n",
       "3           3200.0           1541.0               16300.0   \n",
       "4           2300.0           1630.0                8300.0   \n",
       "\n",
       "   consfin_credibility  consfin_org_count_current  consfin_product_count  \\\n",
       "0                 75.0                        1.0                    2.0   \n",
       "1                 80.0                        5.0                    6.0   \n",
       "2                 87.0                        1.0                    1.0   \n",
       "3                 80.0                        5.0                    5.0   \n",
       "4                 79.0                        2.0                    2.0   \n",
       "\n",
       "   consfin_max_limit  consfin_avg_limit  latest_query_day  loans_latest_day  \n",
       "0             1200.0             1200.0              12.0              18.0  \n",
       "1            22800.0             9360.0               4.0               2.0  \n",
       "2             4200.0             4200.0               2.0               6.0  \n",
       "3            30000.0            12180.0               2.0               4.0  \n",
       "4             8400.0             8250.0              22.0             120.0  \n",
       "\n",
       "[5 rows x 90 columns]"
      ]
     },
     "execution_count": 41,
     "metadata": {},
     "output_type": "execute_result"
    }
   ],
   "source": [
    "# 数据集的加载\n",
    "data = pd.read_csv('Dataset/data.csv')\n",
    "# 剔除重复特征\n",
    "data.drop_duplicates(inplace=True)\n",
    "print(data.shape)\n",
    "data.head()"
   ]
  },
  {
   "cell_type": "code",
   "execution_count": 42,
   "metadata": {},
   "outputs": [
    {
     "data": {
      "text/plain": [
       "0    3561\n",
       "1    1193\n",
       "Name: status, dtype: int64"
      ]
     },
     "execution_count": 42,
     "metadata": {},
     "output_type": "execute_result"
    }
   ],
   "source": [
    "import pickle\n",
    "\n",
    "# 载入特征 获取label\n",
    "with open('feature.pkl', 'rb') as f:\n",
    "    X = pickle.load(f)\n",
    "\n",
    "# 观测正负样本是否均衡\n",
    "y = data.status\n",
    "y.value_counts()"
   ]
  },
  {
   "cell_type": "markdown",
   "metadata": {},
   "source": [
    "### 6.2 数据集划分"
   ]
  },
  {
   "cell_type": "code",
   "execution_count": 43,
   "metadata": {},
   "outputs": [],
   "source": [
    "# 划分数据集（训练集和测试集7:3 无验证集）\n",
    "from sklearn.model_selection import train_test_split\n",
    "from sklearn.preprocessing import StandardScaler\n",
    "\n",
    "X_train, X_test, y_train, y_test = train_test_split(X, y, test_size=0.3,random_state=2333)\n",
    "\n",
    "# 特征归一化处理\n",
    "std = StandardScaler()\n",
    "X_train = std.fit_transform(X_train.values)\n",
    "X_test = std.transform(X_test.values)"
   ]
  },
  {
   "cell_type": "markdown",
   "metadata": {},
   "source": [
    "### 6.3 模型评估"
   ]
  },
  {
   "cell_type": "code",
   "execution_count": 44,
   "metadata": {},
   "outputs": [],
   "source": [
    "from sklearn.metrics import accuracy_score, precision_score, recall_score, f1_score\n",
    "from sklearn.metrics import roc_auc_score,roc_curve, auc\n",
    "import matplotlib.pyplot as plt\n",
    "%matplotlib inline"
   ]
  },
  {
   "cell_type": "code",
   "execution_count": 45,
   "metadata": {},
   "outputs": [],
   "source": [
    "def model_metrics(clf, X_train, X_test, y_train, y_test):\n",
    "    # 预测训练集和测试集\n",
    "    y_train_pred = clf.predict(X_train)\n",
    "    y_test_pred = clf.predict(X_test)\n",
    "    \n",
    "    y_train_proba = clf.predict_proba(X_train)[:,1]\n",
    "    y_test_proba = clf.predict_proba(X_test)[:,1]\n",
    "    \n",
    "    # 准确率Accuracy\n",
    "    print('【Accuracy准确率】', end = ' ')\n",
    "    print('训练集：', '%.4f'%accuracy_score(y_train, y_train_pred), end = ' ')\n",
    "    print('测试集：', '%.4f'%accuracy_score(y_test, y_test_pred))\n",
    "    \n",
    "    # 精准率Precision\n",
    "    print('【Prediction精准率】', end = ' ')\n",
    "    print('训练集：', '%.4f'%precision_score(y_train, y_train_pred), end = ' ')\n",
    "    print('测试集：', '%.4f'%precision_score(y_test, y_test_pred))\n",
    "\n",
    "    # 召回率Recall\n",
    "    print('【Recall召回率】', end = ' ')\n",
    "    print('训练集：', '%.4f'%recall_score(y_train, y_train_pred), end = ' ')\n",
    "    print('测试集：', '%.4f'%recall_score(y_test, y_test_pred))\n",
    "    \n",
    "    # f1-score\n",
    "    print('【F1-score】', end = ' ')\n",
    "    print('训练集：', '%.4f'%f1_score(y_train, y_train_pred), end = ' ')\n",
    "    print('测试集：', '%.4f'%f1_score(y_test, y_test_pred))\n",
    "    \n",
    "    # AUC取值\n",
    "    print('【AUC取值】', end = ' ')\n",
    "    print('训练集：', '%.4f'%roc_auc_score(y_train, y_train_proba), end = ' ')\n",
    "    print('测试集：', '%.4f'%roc_auc_score(y_test, y_test_proba))\n",
    "    \n",
    "    # ROC曲线\n",
    "    fpr_train, tpr_train, thresholds_train = roc_curve(y_train, y_train_proba, pos_label = 1)\n",
    "    fpr_test, tpr_test, thresholds_test = roc_curve(y_test, y_test_proba, pos_label = 1)\n",
    "    \n",
    "    label = [\"Train - AUC:{:.4f}\".format(auc(fpr_train, tpr_train)), \n",
    "             \"Test - AUC:{:.4f}\".format(auc(fpr_test, tpr_test))]\n",
    "    plt.plot(fpr_train,tpr_train)\n",
    "    plt.plot(fpr_test,tpr_test)\n",
    "    plt.plot([0, 1], [0, 1], 'd--')\n",
    "    plt.xlabel('False Positive Rate')\n",
    "    plt.ylabel('True Positive Rate')\n",
    "    plt.legend(label, loc = 4)\n",
    "    plt.title(\"ROC Curve\")"
   ]
  },
  {
   "cell_type": "markdown",
   "metadata": {},
   "source": [
    "### 6.4 模型导入"
   ]
  },
  {
   "cell_type": "markdown",
   "metadata": {},
   "source": [
    "> ### 导入不同分类器模型__LR, SVM, DT, RF, XGBoost, MLXtend"
   ]
  },
  {
   "cell_type": "code",
   "execution_count": 46,
   "metadata": {},
   "outputs": [],
   "source": [
    "from sklearn.linear_model import LogisticRegression\n",
    "from sklearn import svm\n",
    "from sklearn.tree import DecisionTreeClassifier\n",
    "from sklearn.ensemble import RandomForestClassifier\n",
    "from xgboost.sklearn import XGBClassifier"
   ]
  },
  {
   "cell_type": "markdown",
   "metadata": {},
   "source": [
    "### 6.5 模型融合"
   ]
  },
  {
   "cell_type": "markdown",
   "metadata": {},
   "source": [
    "> ### 6.5.1 利用 MLXtend 库中的 StackingClassifier 分类器进行 模型融合"
   ]
  },
  {
   "cell_type": "code",
   "execution_count": 47,
   "metadata": {},
   "outputs": [],
   "source": [
    "from mlxtend.classifier import StackingClassifier"
   ]
  },
  {
   "cell_type": "code",
   "execution_count": 48,
   "metadata": {},
   "outputs": [],
   "source": [
    "# 模型调优后得到的参数\n",
    "lr = LogisticRegression(C = 0.1, penalty = 'l1')\n",
    "svm_linear = svm.SVC(C = 0.01, kernel = 'linear', probability=True)\n",
    "svm_poly =  svm.SVC(C = 0.01, kernel = 'poly', probability=True)\n",
    "svm_rbf =  svm.SVC(gamma = 0.01, C =0.01 , probability=True)\n",
    "svm_sigmoid =  svm.SVC(C = 0.01, kernel = 'sigmoid',probability=True)\n",
    "dt = DecisionTreeClassifier(max_depth=11,min_samples_split=550,min_samples_leaf=80,max_features=19)\n",
    "rf = RandomForestClassifier(n_estimators=120, max_depth=9, min_samples_split=50,\\\n",
    "                            min_samples_leaf=20, max_features = 9,oob_score=True, random_state=2333)\n",
    "xgb = XGBClassifier(learning_rate =0.01, n_estimators=180, max_depth=3, min_child_weight=5, \\\n",
    "                    gamma=0.4, subsample=0.5, colsample_bytree=0.9, reg_alpha=1,\\\n",
    "                    objective= 'binary:logistic', nthread=4,scale_pos_weight=1, seed=27)"
   ]
  },
  {
   "cell_type": "markdown",
   "metadata": {},
   "source": [
    "> ### 6.5.2 手动实现 Stacking 存在问题"
   ]
  },
  {
   "cell_type": "code",
   "execution_count": 9,
   "metadata": {},
   "outputs": [],
   "source": [
    "import numpy as np \n",
    "from sklearn.model_selection import StratifiedKFold\n",
    "from sklearn.svm import SVC\n",
    "from sklearn.ensemble import RandomForestClassifier\n",
    "from sklearn.neighbors import KNeighborsClassifier\n",
    "# import xgboost as xgb\n",
    "from xgboost.sklearn import XGBClassifier\n",
    "from sklearn.ensemble import ExtraTreesClassifier\n",
    "from sklearn.linear_model import LogisticRegression"
   ]
  },
  {
   "cell_type": "code",
   "execution_count": 10,
   "metadata": {},
   "outputs": [],
   "source": [
    "def stacking(train_x, train_y, test):\n",
    "    \"\"\" stacking\n",
    "    input: train_x, train_y, test\n",
    "    output: test的预测值\n",
    "    clfs: 5个一级分类器\n",
    "    dataset_blend_train: 一级分类器的prediction, 二级分类器的train_x\n",
    "    dataset_blend_test: 二级分类器的test\n",
    "    \"\"\"\n",
    "    # 5个一级分类器\n",
    "    clfs = [SVC(C = 3, kernel=\"rbf\"),\n",
    "            RandomForestClassifier(n_estimators=100, max_features=\"log2\", max_depth=10, min_samples_leaf=1, bootstrap=True, n_jobs=-1, random_state=1),\n",
    "            KNeighborsClassifier(n_neighbors=15, n_jobs=-1),\n",
    "            xgb.XGBClassifier(n_estimators=100, objective=\"binary:logistic\", gamma=1, max_depth=10, subsample=0.8, nthread=-1, seed=1),\n",
    "            ExtraTreesClassifier(n_estimators=100, criterion=\"gini\", max_features=\"log2\", max_depth=10, min_samples_split=2, min_samples_leaf=1,bootstrap=True, n_jobs=-1, random_state=1)]\n",
    "    \n",
    "    # 二级分类器的train_x, test\n",
    "    dataset_blend_train = np.zeros((train_x.shape[0], len(clfs)), dtype=np.int)\n",
    "    dataset_blend_test = np.zeros((test.shape[0], len(clfs)), dtype=np.int)\n",
    "    \n",
    "    # 5个分类器进行8_folds预测\n",
    "    n_folds = 8\n",
    "    skf = StratifiedKFold(n_splits=n_folds, shuffle=True, random_state=1)\n",
    "    for i,clf in enumerate(clfs):\n",
    "        dataset_blend_test_j = np.zeros((test.shape[0], n_folds))  # 每个分类器的单次fold预测结果\n",
    "        for j,(train_index,test_index) in enumerate(skf.split(train_x, train_y)):\n",
    "            tr_x = train_x[train_index]\n",
    "            tr_y = train_y[train_index]\n",
    "            clf.fit(tr_x, tr_y)\n",
    "            dataset_blend_train[test_index, i] = clf.predict(train_x[test_index])\n",
    "            dataset_blend_test_j[:, j] = clf.predict(test)\n",
    "        dataset_blend_test[:, i] = dataset_blend_test_j.sum(axis=1) // (n_folds//2 + 1)\n",
    "    \n",
    "    # 二级分类器进行预测\n",
    "    clf = LogisticRegression(penalty=\"l1\", tol=1e-6, C=1.0, random_state=1, n_jobs=-1)\n",
    "    clf.fit(dataset_blend_train, train_y)\n",
    "    prediction = clf.predict(dataset_blend_test)\n",
    "    return prediction"
   ]
  },
  {
   "cell_type": "code",
   "execution_count": 13,
   "metadata": {},
   "outputs": [],
   "source": [
    "# prediction = stacking(X_train, y_train, X_test)"
   ]
  },
  {
   "cell_type": "markdown",
   "metadata": {},
   "source": [
    "> ### 6.5.3 自动调用实现 模型融合"
   ]
  },
  {
   "cell_type": "markdown",
   "metadata": {},
   "source": [
    "> **6.5.3.1 利用5种SVM、决策树、随机森林以及XGBoost作为初级分类器，LR作为次级分类器**"
   ]
  },
  {
   "cell_type": "code",
   "execution_count": 49,
   "metadata": {},
   "outputs": [],
   "source": [
    "sclf = StackingClassifier(classifiers=[svm_linear, svm_poly, svm_rbf, svm_sigmoid, dt, rf, xgb], meta_classifier=lr)"
   ]
  },
  {
   "cell_type": "markdown",
   "metadata": {},
   "source": [
    "> **6.5.3.2 将初级分类器产生的 类别标签  sclf 作为新特征**"
   ]
  },
  {
   "cell_type": "code",
   "execution_count": 50,
   "metadata": {},
   "outputs": [],
   "source": [
    "import warnings\n",
    "warnings.filterwarnings(\"ignore\")"
   ]
  },
  {
   "cell_type": "code",
   "execution_count": 51,
   "metadata": {},
   "outputs": [
    {
     "name": "stdout",
     "output_type": "stream",
     "text": [
      "【Accuracy准确率】 训练集： 0.8118 测试集： 0.7940\n",
      "【Prediction精准率】 训练集： 0.8794 测试集： 0.8242\n",
      "【Recall召回率】 训练集： 0.2952 测试集： 0.2125\n",
      "【F1-score】 训练集： 0.4421 测试集： 0.3378\n",
      "【AUC取值】 训练集： 0.6652 测试集： 0.6403\n"
     ]
    },
    {
     "data": {
      "image/png": "[encoded data removed]",
      "text/plain": [
       "<matplotlib.figure.Figure at 0x241bbcf8>"
      ]
     },
     "metadata": {},
     "output_type": "display_data"
    }
   ],
   "source": [
    "sclf.fit(X_train, y_train.values)\n",
    "model_metrics(sclf, X_train, X_test, y_train, y_test)"
   ]
  },
  {
   "cell_type": "markdown",
   "metadata": {},
   "source": [
    "> **6.5.3.3 将初级分类器产生的输出 类概率 use_probas 作为新特征**"
   ]
  },
  {
   "cell_type": "code",
   "execution_count": 54,
   "metadata": {},
   "outputs": [],
   "source": [
    "sclf = StackingClassifier(classifiers=[svm_linear, svm_poly, svm_rbf, svm_sigmoid, dt, rf, xgb], meta_classifier=lr, use_probas=True,average_probas=False)"
   ]
  },
  {
   "cell_type": "code",
   "execution_count": 55,
   "metadata": {},
   "outputs": [
    {
     "name": "stdout",
     "output_type": "stream",
     "text": [
      "【Accuracy准确率】 训练集： 0.8518 测试集： 0.7919\n",
      "【Prediction精准率】 训练集： 0.7887 测试集： 0.6176\n",
      "【Recall召回率】 训练集： 0.5643 测试集： 0.4164\n",
      "【F1-score】 训练集： 0.6579 测试集： 0.4975\n",
      "【AUC取值】 训练集： 0.9027 测试集： 0.7823\n"
     ]
    },
    {
     "data": {
      "image/png": "[encoded data removed]",
      "text/plain": [
       "<matplotlib.figure.Figure at 0x24725cf8>"
      ]
     },
     "metadata": {},
     "output_type": "display_data"
    }
   ],
   "source": [
    "sclf.fit(X_train, y_train.values)\n",
    "model_metrics(sclf, X_train, X_test, y_train, y_test)"
   ]
  },
  {
   "cell_type": "markdown",
   "metadata": {},
   "source": [
    "### 五、讨论与问题（Discussion & Question）"
   ]
  },
  {
   "cell_type": "markdown",
   "metadata": {},
   "source": [
    "> #### 比较模型融合之前和融合之后的效果差异，分析导致产生差异的关键因素/原因在哪里？"
   ]
  },
  {
   "cell_type": "markdown",
   "metadata": {},
   "source": [
    "### 六、总结（Conclusion）"
   ]
  },
  {
   "cell_type": "markdown",
   "metadata": {},
   "source": [
    "> #### Task01 Data Analysis (数据分析)\n",
    "\n",
    "> #### Task02 Feature Engineering (特征工程)\n",
    "\n",
    "> #### Task03  Mdel Construction(模型构建)\n",
    "\n",
    "> #### Task04  Model Evaluation(模型评估)\n",
    "\n",
    "> #### Task05  Model Tuning(模型调优)\n",
    "\n",
    "> #### Task06  Model Integration(模型融合)"
   ]
  },
  {
   "cell_type": "markdown",
   "metadata": {},
   "source": [
    "### Conference"
   ]
  },
  {
   "cell_type": "markdown",
   "metadata": {},
   "source": [
    "> **[模型融合方法总结](https://blog.csdn.net/hust_tsb/article/details/76577599)**\n",
    "\n",
    "> **[模型融合方法](https://blog.csdn.net/sinat_29819401/article/details/71191219)**\n",
    "\n",
    "> **[KAGGLE ENSEMBLING GUIDE](https://mlwave.com/kaggle-ensembling-guide/)**"
   ]
  },
  {
   "cell_type": "code",
   "execution_count": null,
   "metadata": {},
   "outputs": [],
   "source": []
  }
 ],
 "metadata": {
  "kernelspec": {
   "display_name": "Python 3",
   "language": "python",
   "name": "python3"
  },
  "language_info": {
   "codemirror_mode": {
    "name": "ipython",
    "version": 3
   },
   "file_extension": ".py",
   "mimetype": "text/x-python",
   "name": "python",
   "nbconvert_exporter": "python",
   "pygments_lexer": "ipython3",
   "version": "3.6.4"
  }
 },
 "nbformat": 4,
 "nbformat_minor": 2
}
